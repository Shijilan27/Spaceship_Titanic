{
 "cells": [
  {
   "cell_type": "code",
   "execution_count": 1,
   "id": "2084d630",
   "metadata": {
    "_cell_guid": "b1076dfc-b9ad-4769-8c92-a6c4dae69d19",
    "_uuid": "8f2839f25d086af736a60e9eeb907d3b93b6e0e5",
    "execution": {
     "iopub.execute_input": "2024-06-22T10:02:27.653845Z",
     "iopub.status.busy": "2024-06-22T10:02:27.653465Z",
     "iopub.status.idle": "2024-06-22T10:02:30.730666Z",
     "shell.execute_reply": "2024-06-22T10:02:30.729184Z"
    },
    "papermill": {
     "duration": 3.091621,
     "end_time": "2024-06-22T10:02:30.733393",
     "exception": false,
     "start_time": "2024-06-22T10:02:27.641772",
     "status": "completed"
    },
    "tags": []
   },
   "outputs": [
    {
     "name": "stdout",
     "output_type": "stream",
     "text": [
      "/kaggle/input/spaceship-titanic/sample_submission.csv\n",
      "/kaggle/input/spaceship-titanic/train.csv\n",
      "/kaggle/input/spaceship-titanic/test.csv\n"
     ]
    }
   ],
   "source": [
    "# This Python 3 environment comes with many helpful analytics libraries installed\n",
    "# It is defined by the kaggle/python Docker image: https://github.com/kaggle/docker-python\n",
    "# For example, here's several helpful packages to load\n",
    "\n",
    "import numpy as np # linear algebra\n",
    "import pandas as pd # data processing, CSV file I/O (e.g. pd.read_csv)\n",
    "import matplotlib.pyplot as plt\n",
    "import seaborn as sns\n",
    "sns.set()\n",
    "from sklearn.preprocessing import OneHotEncoder\n",
    "from sklearn.linear_model import LogisticRegression\n",
    "from sklearn.ensemble import RandomForestClassifier, GradientBoostingClassifier\n",
    "from sklearn.model_selection import train_test_split\n",
    "import pathlib\n",
    "\n",
    "# Input data files are available in the read-only \"../input/\" directory\n",
    "# For example, running this (by clicking run or pressing Shift+Enter) will list all files under the input directory\n",
    "\n",
    "import os\n",
    "for dirname, _, filenames in os.walk('/kaggle/input'):\n",
    "    for filename in filenames:\n",
    "        print(os.path.join(dirname, filename))\n",
    "\n",
    "# You can write up to 20GB to the current directory (/kaggle/working/) that gets preserved as output when you create a version using \"Save & Run All\" \n",
    "# You can also write temporary files to /kaggle/temp/, but they won't be saved outside of the current session"
   ]
  },
  {
   "cell_type": "code",
   "execution_count": 2,
   "id": "9e02669f",
   "metadata": {
    "execution": {
     "iopub.execute_input": "2024-06-22T10:02:30.755649Z",
     "iopub.status.busy": "2024-06-22T10:02:30.755048Z",
     "iopub.status.idle": "2024-06-22T10:02:30.849371Z",
     "shell.execute_reply": "2024-06-22T10:02:30.848034Z"
    },
    "papermill": {
     "duration": 0.108142,
     "end_time": "2024-06-22T10:02:30.852005",
     "exception": false,
     "start_time": "2024-06-22T10:02:30.743863",
     "status": "completed"
    },
    "tags": []
   },
   "outputs": [
    {
     "data": {
      "text/html": [
       "<div>\n",
       "<style scoped>\n",
       "    .dataframe tbody tr th:only-of-type {\n",
       "        vertical-align: middle;\n",
       "    }\n",
       "\n",
       "    .dataframe tbody tr th {\n",
       "        vertical-align: top;\n",
       "    }\n",
       "\n",
       "    .dataframe thead th {\n",
       "        text-align: right;\n",
       "    }\n",
       "</style>\n",
       "<table border=\"1\" class=\"dataframe\">\n",
       "  <thead>\n",
       "    <tr style=\"text-align: right;\">\n",
       "      <th></th>\n",
       "      <th>PassengerId</th>\n",
       "      <th>HomePlanet</th>\n",
       "      <th>CryoSleep</th>\n",
       "      <th>Cabin</th>\n",
       "      <th>Destination</th>\n",
       "      <th>Age</th>\n",
       "      <th>VIP</th>\n",
       "      <th>RoomService</th>\n",
       "      <th>FoodCourt</th>\n",
       "      <th>ShoppingMall</th>\n",
       "      <th>Spa</th>\n",
       "      <th>VRDeck</th>\n",
       "      <th>Name</th>\n",
       "      <th>Transported</th>\n",
       "    </tr>\n",
       "  </thead>\n",
       "  <tbody>\n",
       "    <tr>\n",
       "      <th>0</th>\n",
       "      <td>0001_01</td>\n",
       "      <td>Europa</td>\n",
       "      <td>False</td>\n",
       "      <td>B/0/P</td>\n",
       "      <td>TRAPPIST-1e</td>\n",
       "      <td>39.0</td>\n",
       "      <td>False</td>\n",
       "      <td>0.0</td>\n",
       "      <td>0.0</td>\n",
       "      <td>0.0</td>\n",
       "      <td>0.0</td>\n",
       "      <td>0.0</td>\n",
       "      <td>Maham Ofracculy</td>\n",
       "      <td>False</td>\n",
       "    </tr>\n",
       "    <tr>\n",
       "      <th>1</th>\n",
       "      <td>0002_01</td>\n",
       "      <td>Earth</td>\n",
       "      <td>False</td>\n",
       "      <td>F/0/S</td>\n",
       "      <td>TRAPPIST-1e</td>\n",
       "      <td>24.0</td>\n",
       "      <td>False</td>\n",
       "      <td>109.0</td>\n",
       "      <td>9.0</td>\n",
       "      <td>25.0</td>\n",
       "      <td>549.0</td>\n",
       "      <td>44.0</td>\n",
       "      <td>Juanna Vines</td>\n",
       "      <td>True</td>\n",
       "    </tr>\n",
       "    <tr>\n",
       "      <th>2</th>\n",
       "      <td>0003_01</td>\n",
       "      <td>Europa</td>\n",
       "      <td>False</td>\n",
       "      <td>A/0/S</td>\n",
       "      <td>TRAPPIST-1e</td>\n",
       "      <td>58.0</td>\n",
       "      <td>True</td>\n",
       "      <td>43.0</td>\n",
       "      <td>3576.0</td>\n",
       "      <td>0.0</td>\n",
       "      <td>6715.0</td>\n",
       "      <td>49.0</td>\n",
       "      <td>Altark Susent</td>\n",
       "      <td>False</td>\n",
       "    </tr>\n",
       "    <tr>\n",
       "      <th>3</th>\n",
       "      <td>0003_02</td>\n",
       "      <td>Europa</td>\n",
       "      <td>False</td>\n",
       "      <td>A/0/S</td>\n",
       "      <td>TRAPPIST-1e</td>\n",
       "      <td>33.0</td>\n",
       "      <td>False</td>\n",
       "      <td>0.0</td>\n",
       "      <td>1283.0</td>\n",
       "      <td>371.0</td>\n",
       "      <td>3329.0</td>\n",
       "      <td>193.0</td>\n",
       "      <td>Solam Susent</td>\n",
       "      <td>False</td>\n",
       "    </tr>\n",
       "    <tr>\n",
       "      <th>4</th>\n",
       "      <td>0004_01</td>\n",
       "      <td>Earth</td>\n",
       "      <td>False</td>\n",
       "      <td>F/1/S</td>\n",
       "      <td>TRAPPIST-1e</td>\n",
       "      <td>16.0</td>\n",
       "      <td>False</td>\n",
       "      <td>303.0</td>\n",
       "      <td>70.0</td>\n",
       "      <td>151.0</td>\n",
       "      <td>565.0</td>\n",
       "      <td>2.0</td>\n",
       "      <td>Willy Santantines</td>\n",
       "      <td>True</td>\n",
       "    </tr>\n",
       "  </tbody>\n",
       "</table>\n",
       "</div>"
      ],
      "text/plain": [
       "  PassengerId HomePlanet CryoSleep  Cabin  Destination   Age    VIP  \\\n",
       "0     0001_01     Europa     False  B/0/P  TRAPPIST-1e  39.0  False   \n",
       "1     0002_01      Earth     False  F/0/S  TRAPPIST-1e  24.0  False   \n",
       "2     0003_01     Europa     False  A/0/S  TRAPPIST-1e  58.0   True   \n",
       "3     0003_02     Europa     False  A/0/S  TRAPPIST-1e  33.0  False   \n",
       "4     0004_01      Earth     False  F/1/S  TRAPPIST-1e  16.0  False   \n",
       "\n",
       "   RoomService  FoodCourt  ShoppingMall     Spa  VRDeck               Name  \\\n",
       "0          0.0        0.0           0.0     0.0     0.0    Maham Ofracculy   \n",
       "1        109.0        9.0          25.0   549.0    44.0       Juanna Vines   \n",
       "2         43.0     3576.0           0.0  6715.0    49.0      Altark Susent   \n",
       "3          0.0     1283.0         371.0  3329.0   193.0       Solam Susent   \n",
       "4        303.0       70.0         151.0   565.0     2.0  Willy Santantines   \n",
       "\n",
       "   Transported  \n",
       "0        False  \n",
       "1         True  \n",
       "2        False  \n",
       "3        False  \n",
       "4         True  "
      ]
     },
     "execution_count": 2,
     "metadata": {},
     "output_type": "execute_result"
    }
   ],
   "source": [
    "filepath = '/kaggle/input/spaceship-titanic/train.csv'\n",
    "df = pd.read_csv('/kaggle/input/spaceship-titanic/train.csv')\n",
    "df.head()"
   ]
  },
  {
   "cell_type": "code",
   "execution_count": 3,
   "id": "44cab398",
   "metadata": {
    "execution": {
     "iopub.execute_input": "2024-06-22T10:02:30.875804Z",
     "iopub.status.busy": "2024-06-22T10:02:30.875428Z",
     "iopub.status.idle": "2024-06-22T10:02:30.917128Z",
     "shell.execute_reply": "2024-06-22T10:02:30.915674Z"
    },
    "papermill": {
     "duration": 0.057059,
     "end_time": "2024-06-22T10:02:30.919689",
     "exception": false,
     "start_time": "2024-06-22T10:02:30.862630",
     "status": "completed"
    },
    "tags": []
   },
   "outputs": [
    {
     "data": {
      "text/html": [
       "<div>\n",
       "<style scoped>\n",
       "    .dataframe tbody tr th:only-of-type {\n",
       "        vertical-align: middle;\n",
       "    }\n",
       "\n",
       "    .dataframe tbody tr th {\n",
       "        vertical-align: top;\n",
       "    }\n",
       "\n",
       "    .dataframe thead th {\n",
       "        text-align: right;\n",
       "    }\n",
       "</style>\n",
       "<table border=\"1\" class=\"dataframe\">\n",
       "  <thead>\n",
       "    <tr style=\"text-align: right;\">\n",
       "      <th></th>\n",
       "      <th>Age</th>\n",
       "      <th>RoomService</th>\n",
       "      <th>FoodCourt</th>\n",
       "      <th>ShoppingMall</th>\n",
       "      <th>Spa</th>\n",
       "      <th>VRDeck</th>\n",
       "    </tr>\n",
       "  </thead>\n",
       "  <tbody>\n",
       "    <tr>\n",
       "      <th>count</th>\n",
       "      <td>8514.000000</td>\n",
       "      <td>8512.000000</td>\n",
       "      <td>8510.000000</td>\n",
       "      <td>8485.000000</td>\n",
       "      <td>8510.000000</td>\n",
       "      <td>8505.000000</td>\n",
       "    </tr>\n",
       "    <tr>\n",
       "      <th>mean</th>\n",
       "      <td>28.827930</td>\n",
       "      <td>224.687617</td>\n",
       "      <td>458.077203</td>\n",
       "      <td>173.729169</td>\n",
       "      <td>311.138778</td>\n",
       "      <td>304.854791</td>\n",
       "    </tr>\n",
       "    <tr>\n",
       "      <th>std</th>\n",
       "      <td>14.489021</td>\n",
       "      <td>666.717663</td>\n",
       "      <td>1611.489240</td>\n",
       "      <td>604.696458</td>\n",
       "      <td>1136.705535</td>\n",
       "      <td>1145.717189</td>\n",
       "    </tr>\n",
       "    <tr>\n",
       "      <th>min</th>\n",
       "      <td>0.000000</td>\n",
       "      <td>0.000000</td>\n",
       "      <td>0.000000</td>\n",
       "      <td>0.000000</td>\n",
       "      <td>0.000000</td>\n",
       "      <td>0.000000</td>\n",
       "    </tr>\n",
       "    <tr>\n",
       "      <th>25%</th>\n",
       "      <td>19.000000</td>\n",
       "      <td>0.000000</td>\n",
       "      <td>0.000000</td>\n",
       "      <td>0.000000</td>\n",
       "      <td>0.000000</td>\n",
       "      <td>0.000000</td>\n",
       "    </tr>\n",
       "    <tr>\n",
       "      <th>50%</th>\n",
       "      <td>27.000000</td>\n",
       "      <td>0.000000</td>\n",
       "      <td>0.000000</td>\n",
       "      <td>0.000000</td>\n",
       "      <td>0.000000</td>\n",
       "      <td>0.000000</td>\n",
       "    </tr>\n",
       "    <tr>\n",
       "      <th>75%</th>\n",
       "      <td>38.000000</td>\n",
       "      <td>47.000000</td>\n",
       "      <td>76.000000</td>\n",
       "      <td>27.000000</td>\n",
       "      <td>59.000000</td>\n",
       "      <td>46.000000</td>\n",
       "    </tr>\n",
       "    <tr>\n",
       "      <th>max</th>\n",
       "      <td>79.000000</td>\n",
       "      <td>14327.000000</td>\n",
       "      <td>29813.000000</td>\n",
       "      <td>23492.000000</td>\n",
       "      <td>22408.000000</td>\n",
       "      <td>24133.000000</td>\n",
       "    </tr>\n",
       "  </tbody>\n",
       "</table>\n",
       "</div>"
      ],
      "text/plain": [
       "               Age   RoomService     FoodCourt  ShoppingMall           Spa  \\\n",
       "count  8514.000000   8512.000000   8510.000000   8485.000000   8510.000000   \n",
       "mean     28.827930    224.687617    458.077203    173.729169    311.138778   \n",
       "std      14.489021    666.717663   1611.489240    604.696458   1136.705535   \n",
       "min       0.000000      0.000000      0.000000      0.000000      0.000000   \n",
       "25%      19.000000      0.000000      0.000000      0.000000      0.000000   \n",
       "50%      27.000000      0.000000      0.000000      0.000000      0.000000   \n",
       "75%      38.000000     47.000000     76.000000     27.000000     59.000000   \n",
       "max      79.000000  14327.000000  29813.000000  23492.000000  22408.000000   \n",
       "\n",
       "             VRDeck  \n",
       "count   8505.000000  \n",
       "mean     304.854791  \n",
       "std     1145.717189  \n",
       "min        0.000000  \n",
       "25%        0.000000  \n",
       "50%        0.000000  \n",
       "75%       46.000000  \n",
       "max    24133.000000  "
      ]
     },
     "execution_count": 3,
     "metadata": {},
     "output_type": "execute_result"
    }
   ],
   "source": [
    "df.describe()"
   ]
  },
  {
   "cell_type": "markdown",
   "id": "0780f5d5",
   "metadata": {
    "papermill": {
     "duration": 0.011094,
     "end_time": "2024-06-22T10:02:30.942632",
     "exception": false,
     "start_time": "2024-06-22T10:02:30.931538",
     "status": "completed"
    },
    "tags": []
   },
   "source": [
    "# Which Datatypes are Categorical and Numerical ?"
   ]
  },
  {
   "cell_type": "code",
   "execution_count": 4,
   "id": "df895f84",
   "metadata": {
    "execution": {
     "iopub.execute_input": "2024-06-22T10:02:30.967780Z",
     "iopub.status.busy": "2024-06-22T10:02:30.967405Z",
     "iopub.status.idle": "2024-06-22T10:02:30.976645Z",
     "shell.execute_reply": "2024-06-22T10:02:30.975314Z"
    },
    "papermill": {
     "duration": 0.023959,
     "end_time": "2024-06-22T10:02:30.979589",
     "exception": false,
     "start_time": "2024-06-22T10:02:30.955630",
     "status": "completed"
    },
    "tags": []
   },
   "outputs": [
    {
     "name": "stdout",
     "output_type": "stream",
     "text": [
      "Index(['PassengerId', 'HomePlanet', 'CryoSleep', 'Cabin', 'Destination', 'VIP',\n",
      "       'Name'],\n",
      "      dtype='object')\n"
     ]
    }
   ],
   "source": [
    "categorical_var = df.select_dtypes(include=['object']).columns\n",
    "print(categorical_var)\n"
   ]
  },
  {
   "cell_type": "code",
   "execution_count": 5,
   "id": "c083ac48",
   "metadata": {
    "execution": {
     "iopub.execute_input": "2024-06-22T10:02:31.003783Z",
     "iopub.status.busy": "2024-06-22T10:02:31.003394Z",
     "iopub.status.idle": "2024-06-22T10:02:31.011957Z",
     "shell.execute_reply": "2024-06-22T10:02:31.010220Z"
    },
    "papermill": {
     "duration": 0.024251,
     "end_time": "2024-06-22T10:02:31.015196",
     "exception": false,
     "start_time": "2024-06-22T10:02:30.990945",
     "status": "completed"
    },
    "tags": []
   },
   "outputs": [
    {
     "name": "stdout",
     "output_type": "stream",
     "text": [
      "Index(['Age', 'RoomService', 'FoodCourt', 'ShoppingMall', 'Spa', 'VRDeck'], dtype='object')\n"
     ]
    }
   ],
   "source": [
    "numerical_var = df.select_dtypes(include=['float64']).columns\n",
    "print(numerical_var)"
   ]
  },
  {
   "cell_type": "markdown",
   "id": "7b55d534",
   "metadata": {
    "papermill": {
     "duration": 0.011441,
     "end_time": "2024-06-22T10:02:31.038601",
     "exception": false,
     "start_time": "2024-06-22T10:02:31.027160",
     "status": "completed"
    },
    "tags": []
   },
   "source": [
    "Checking the null values present in each column "
   ]
  },
  {
   "cell_type": "code",
   "execution_count": 6,
   "id": "d23c6a2d",
   "metadata": {
    "execution": {
     "iopub.execute_input": "2024-06-22T10:02:31.062444Z",
     "iopub.status.busy": "2024-06-22T10:02:31.062023Z",
     "iopub.status.idle": "2024-06-22T10:02:31.081300Z",
     "shell.execute_reply": "2024-06-22T10:02:31.079686Z"
    },
    "papermill": {
     "duration": 0.034291,
     "end_time": "2024-06-22T10:02:31.084020",
     "exception": false,
     "start_time": "2024-06-22T10:02:31.049729",
     "status": "completed"
    },
    "tags": []
   },
   "outputs": [
    {
     "data": {
      "text/html": [
       "<div>\n",
       "<style scoped>\n",
       "    .dataframe tbody tr th:only-of-type {\n",
       "        vertical-align: middle;\n",
       "    }\n",
       "\n",
       "    .dataframe tbody tr th {\n",
       "        vertical-align: top;\n",
       "    }\n",
       "\n",
       "    .dataframe thead th {\n",
       "        text-align: right;\n",
       "    }\n",
       "</style>\n",
       "<table border=\"1\" class=\"dataframe\">\n",
       "  <thead>\n",
       "    <tr style=\"text-align: right;\">\n",
       "      <th></th>\n",
       "      <th>nulls</th>\n",
       "    </tr>\n",
       "  </thead>\n",
       "  <tbody>\n",
       "    <tr>\n",
       "      <th>PassengerId</th>\n",
       "      <td>0</td>\n",
       "    </tr>\n",
       "    <tr>\n",
       "      <th>HomePlanet</th>\n",
       "      <td>201</td>\n",
       "    </tr>\n",
       "    <tr>\n",
       "      <th>CryoSleep</th>\n",
       "      <td>217</td>\n",
       "    </tr>\n",
       "    <tr>\n",
       "      <th>Cabin</th>\n",
       "      <td>199</td>\n",
       "    </tr>\n",
       "    <tr>\n",
       "      <th>Destination</th>\n",
       "      <td>182</td>\n",
       "    </tr>\n",
       "    <tr>\n",
       "      <th>Age</th>\n",
       "      <td>179</td>\n",
       "    </tr>\n",
       "    <tr>\n",
       "      <th>VIP</th>\n",
       "      <td>203</td>\n",
       "    </tr>\n",
       "    <tr>\n",
       "      <th>RoomService</th>\n",
       "      <td>181</td>\n",
       "    </tr>\n",
       "    <tr>\n",
       "      <th>FoodCourt</th>\n",
       "      <td>183</td>\n",
       "    </tr>\n",
       "    <tr>\n",
       "      <th>ShoppingMall</th>\n",
       "      <td>208</td>\n",
       "    </tr>\n",
       "    <tr>\n",
       "      <th>Spa</th>\n",
       "      <td>183</td>\n",
       "    </tr>\n",
       "    <tr>\n",
       "      <th>VRDeck</th>\n",
       "      <td>188</td>\n",
       "    </tr>\n",
       "    <tr>\n",
       "      <th>Name</th>\n",
       "      <td>200</td>\n",
       "    </tr>\n",
       "    <tr>\n",
       "      <th>Transported</th>\n",
       "      <td>0</td>\n",
       "    </tr>\n",
       "  </tbody>\n",
       "</table>\n",
       "</div>"
      ],
      "text/plain": [
       "              nulls\n",
       "PassengerId       0\n",
       "HomePlanet      201\n",
       "CryoSleep       217\n",
       "Cabin           199\n",
       "Destination     182\n",
       "Age             179\n",
       "VIP             203\n",
       "RoomService     181\n",
       "FoodCourt       183\n",
       "ShoppingMall    208\n",
       "Spa             183\n",
       "VRDeck          188\n",
       "Name            200\n",
       "Transported       0"
      ]
     },
     "execution_count": 6,
     "metadata": {},
     "output_type": "execute_result"
    }
   ],
   "source": [
    "def nulls(df):\n",
    "    nll = {}\n",
    "    for col in df.columns:\n",
    "        nll[col] = df[col].isnull().sum()\n",
    "    df_nulls = pd.DataFrame(data=list(nll.values()),\n",
    "                           index=list(nll.keys()),\n",
    "                            columns=['nulls'])\n",
    "    return(df_nulls)\n",
    "nulls(df)"
   ]
  },
  {
   "cell_type": "markdown",
   "id": "550afe31",
   "metadata": {
    "papermill": {
     "duration": 0.013579,
     "end_time": "2024-06-22T10:02:31.109256",
     "exception": false,
     "start_time": "2024-06-22T10:02:31.095677",
     "status": "completed"
    },
    "tags": []
   },
   "source": [
    "Handling the none values :\n",
    "\n",
    "* Categorical data - replace none with most common used word\n",
    "* Numerical data - replace null with mean of the data"
   ]
  },
  {
   "cell_type": "code",
   "execution_count": 7,
   "id": "9d8b4ea5",
   "metadata": {
    "execution": {
     "iopub.execute_input": "2024-06-22T10:02:31.134541Z",
     "iopub.status.busy": "2024-06-22T10:02:31.133812Z",
     "iopub.status.idle": "2024-06-22T10:02:31.166280Z",
     "shell.execute_reply": "2024-06-22T10:02:31.164953Z"
    },
    "papermill": {
     "duration": 0.047975,
     "end_time": "2024-06-22T10:02:31.169296",
     "exception": false,
     "start_time": "2024-06-22T10:02:31.121321",
     "status": "completed"
    },
    "tags": []
   },
   "outputs": [
    {
     "name": "stderr",
     "output_type": "stream",
     "text": [
      "/tmp/ipykernel_18/2104671028.py:4: FutureWarning: Downcasting object dtype arrays on .fillna, .ffill, .bfill is deprecated and will change in a future version. Call result.infer_objects(copy=False) instead. To opt-in to the future behavior, set `pd.set_option('future.no_silent_downcasting', True)`\n",
      "  df[cat_col] = df[cat_col].fillna(df[cat_col].mode()[0])\n"
     ]
    }
   ],
   "source": [
    "#Categorical\n",
    "for cat_col in categorical_var:\n",
    "    if cat_col != \"Name\":\n",
    "        df[cat_col] = df[cat_col].fillna(df[cat_col].mode()[0])"
   ]
  },
  {
   "cell_type": "code",
   "execution_count": 8,
   "id": "1dffeb30",
   "metadata": {
    "execution": {
     "iopub.execute_input": "2024-06-22T10:02:31.192885Z",
     "iopub.status.busy": "2024-06-22T10:02:31.192507Z",
     "iopub.status.idle": "2024-06-22T10:02:31.202143Z",
     "shell.execute_reply": "2024-06-22T10:02:31.201064Z"
    },
    "papermill": {
     "duration": 0.024622,
     "end_time": "2024-06-22T10:02:31.205055",
     "exception": false,
     "start_time": "2024-06-22T10:02:31.180433",
     "status": "completed"
    },
    "tags": []
   },
   "outputs": [],
   "source": [
    "#Numerical\n",
    "for num_col in numerical_var:\n",
    "    df[num_col] = df[num_col].fillna(df[num_col].mean())"
   ]
  },
  {
   "cell_type": "code",
   "execution_count": 9,
   "id": "3f3cf69b",
   "metadata": {
    "execution": {
     "iopub.execute_input": "2024-06-22T10:02:31.228837Z",
     "iopub.status.busy": "2024-06-22T10:02:31.228460Z",
     "iopub.status.idle": "2024-06-22T10:02:31.244868Z",
     "shell.execute_reply": "2024-06-22T10:02:31.243788Z"
    },
    "papermill": {
     "duration": 0.031311,
     "end_time": "2024-06-22T10:02:31.247180",
     "exception": false,
     "start_time": "2024-06-22T10:02:31.215869",
     "status": "completed"
    },
    "tags": []
   },
   "outputs": [
    {
     "data": {
      "text/html": [
       "<div>\n",
       "<style scoped>\n",
       "    .dataframe tbody tr th:only-of-type {\n",
       "        vertical-align: middle;\n",
       "    }\n",
       "\n",
       "    .dataframe tbody tr th {\n",
       "        vertical-align: top;\n",
       "    }\n",
       "\n",
       "    .dataframe thead th {\n",
       "        text-align: right;\n",
       "    }\n",
       "</style>\n",
       "<table border=\"1\" class=\"dataframe\">\n",
       "  <thead>\n",
       "    <tr style=\"text-align: right;\">\n",
       "      <th></th>\n",
       "      <th>nulls</th>\n",
       "    </tr>\n",
       "  </thead>\n",
       "  <tbody>\n",
       "    <tr>\n",
       "      <th>PassengerId</th>\n",
       "      <td>0</td>\n",
       "    </tr>\n",
       "    <tr>\n",
       "      <th>HomePlanet</th>\n",
       "      <td>0</td>\n",
       "    </tr>\n",
       "    <tr>\n",
       "      <th>CryoSleep</th>\n",
       "      <td>0</td>\n",
       "    </tr>\n",
       "    <tr>\n",
       "      <th>Cabin</th>\n",
       "      <td>0</td>\n",
       "    </tr>\n",
       "    <tr>\n",
       "      <th>Destination</th>\n",
       "      <td>0</td>\n",
       "    </tr>\n",
       "    <tr>\n",
       "      <th>Age</th>\n",
       "      <td>0</td>\n",
       "    </tr>\n",
       "    <tr>\n",
       "      <th>VIP</th>\n",
       "      <td>0</td>\n",
       "    </tr>\n",
       "    <tr>\n",
       "      <th>RoomService</th>\n",
       "      <td>0</td>\n",
       "    </tr>\n",
       "    <tr>\n",
       "      <th>FoodCourt</th>\n",
       "      <td>0</td>\n",
       "    </tr>\n",
       "    <tr>\n",
       "      <th>ShoppingMall</th>\n",
       "      <td>0</td>\n",
       "    </tr>\n",
       "    <tr>\n",
       "      <th>Spa</th>\n",
       "      <td>0</td>\n",
       "    </tr>\n",
       "    <tr>\n",
       "      <th>VRDeck</th>\n",
       "      <td>0</td>\n",
       "    </tr>\n",
       "    <tr>\n",
       "      <th>Name</th>\n",
       "      <td>200</td>\n",
       "    </tr>\n",
       "    <tr>\n",
       "      <th>Transported</th>\n",
       "      <td>0</td>\n",
       "    </tr>\n",
       "  </tbody>\n",
       "</table>\n",
       "</div>"
      ],
      "text/plain": [
       "              nulls\n",
       "PassengerId       0\n",
       "HomePlanet        0\n",
       "CryoSleep         0\n",
       "Cabin             0\n",
       "Destination       0\n",
       "Age               0\n",
       "VIP               0\n",
       "RoomService       0\n",
       "FoodCourt         0\n",
       "ShoppingMall      0\n",
       "Spa               0\n",
       "VRDeck            0\n",
       "Name            200\n",
       "Transported       0"
      ]
     },
     "execution_count": 9,
     "metadata": {},
     "output_type": "execute_result"
    }
   ],
   "source": [
    "nulls(df)"
   ]
  },
  {
   "cell_type": "code",
   "execution_count": 10,
   "id": "6829b00d",
   "metadata": {
    "execution": {
     "iopub.execute_input": "2024-06-22T10:02:31.271343Z",
     "iopub.status.busy": "2024-06-22T10:02:31.270924Z",
     "iopub.status.idle": "2024-06-22T10:02:31.312927Z",
     "shell.execute_reply": "2024-06-22T10:02:31.311410Z"
    },
    "papermill": {
     "duration": 0.057107,
     "end_time": "2024-06-22T10:02:31.315504",
     "exception": false,
     "start_time": "2024-06-22T10:02:31.258397",
     "status": "completed"
    },
    "tags": []
   },
   "outputs": [
    {
     "data": {
      "text/html": [
       "<div>\n",
       "<style scoped>\n",
       "    .dataframe tbody tr th:only-of-type {\n",
       "        vertical-align: middle;\n",
       "    }\n",
       "\n",
       "    .dataframe tbody tr th {\n",
       "        vertical-align: top;\n",
       "    }\n",
       "\n",
       "    .dataframe thead th {\n",
       "        text-align: right;\n",
       "    }\n",
       "</style>\n",
       "<table border=\"1\" class=\"dataframe\">\n",
       "  <thead>\n",
       "    <tr style=\"text-align: right;\">\n",
       "      <th></th>\n",
       "      <th>PassengerId</th>\n",
       "      <th>HomePlanet</th>\n",
       "      <th>Cabin</th>\n",
       "      <th>Destination</th>\n",
       "      <th>Name</th>\n",
       "    </tr>\n",
       "  </thead>\n",
       "  <tbody>\n",
       "    <tr>\n",
       "      <th>count</th>\n",
       "      <td>8693</td>\n",
       "      <td>8693</td>\n",
       "      <td>8693</td>\n",
       "      <td>8693</td>\n",
       "      <td>8493</td>\n",
       "    </tr>\n",
       "    <tr>\n",
       "      <th>unique</th>\n",
       "      <td>8693</td>\n",
       "      <td>3</td>\n",
       "      <td>6560</td>\n",
       "      <td>3</td>\n",
       "      <td>8473</td>\n",
       "    </tr>\n",
       "    <tr>\n",
       "      <th>top</th>\n",
       "      <td>0001_01</td>\n",
       "      <td>Earth</td>\n",
       "      <td>G/734/S</td>\n",
       "      <td>TRAPPIST-1e</td>\n",
       "      <td>Gollux Reedall</td>\n",
       "    </tr>\n",
       "    <tr>\n",
       "      <th>freq</th>\n",
       "      <td>1</td>\n",
       "      <td>4803</td>\n",
       "      <td>207</td>\n",
       "      <td>6097</td>\n",
       "      <td>2</td>\n",
       "    </tr>\n",
       "  </tbody>\n",
       "</table>\n",
       "</div>"
      ],
      "text/plain": [
       "       PassengerId HomePlanet    Cabin  Destination            Name\n",
       "count         8693       8693     8693         8693            8493\n",
       "unique        8693          3     6560            3            8473\n",
       "top        0001_01      Earth  G/734/S  TRAPPIST-1e  Gollux Reedall\n",
       "freq             1       4803      207         6097               2"
      ]
     },
     "execution_count": 10,
     "metadata": {},
     "output_type": "execute_result"
    }
   ],
   "source": [
    "df.describe(include=['O'])"
   ]
  },
  {
   "cell_type": "markdown",
   "id": "4f543562",
   "metadata": {
    "papermill": {
     "duration": 0.01137,
     "end_time": "2024-06-22T10:02:31.339186",
     "exception": false,
     "start_time": "2024-06-22T10:02:31.327816",
     "status": "completed"
    },
    "tags": []
   },
   "source": [
    "Manually encoding all categorical features using dict method"
   ]
  },
  {
   "cell_type": "code",
   "execution_count": 11,
   "id": "72fb0c1a",
   "metadata": {
    "execution": {
     "iopub.execute_input": "2024-06-22T10:02:31.365514Z",
     "iopub.status.busy": "2024-06-22T10:02:31.364352Z",
     "iopub.status.idle": "2024-06-22T10:02:31.391062Z",
     "shell.execute_reply": "2024-06-22T10:02:31.390036Z"
    },
    "papermill": {
     "duration": 0.042401,
     "end_time": "2024-06-22T10:02:31.393605",
     "exception": false,
     "start_time": "2024-06-22T10:02:31.351204",
     "status": "completed"
    },
    "tags": []
   },
   "outputs": [
    {
     "data": {
      "text/html": [
       "<div>\n",
       "<style scoped>\n",
       "    .dataframe tbody tr th:only-of-type {\n",
       "        vertical-align: middle;\n",
       "    }\n",
       "\n",
       "    .dataframe tbody tr th {\n",
       "        vertical-align: top;\n",
       "    }\n",
       "\n",
       "    .dataframe thead th {\n",
       "        text-align: right;\n",
       "    }\n",
       "</style>\n",
       "<table border=\"1\" class=\"dataframe\">\n",
       "  <thead>\n",
       "    <tr style=\"text-align: right;\">\n",
       "      <th></th>\n",
       "      <th>PassengerId</th>\n",
       "      <th>HomePlanet</th>\n",
       "      <th>CryoSleep</th>\n",
       "      <th>Cabin</th>\n",
       "      <th>Destination</th>\n",
       "      <th>Age</th>\n",
       "      <th>VIP</th>\n",
       "      <th>RoomService</th>\n",
       "      <th>FoodCourt</th>\n",
       "      <th>ShoppingMall</th>\n",
       "      <th>Spa</th>\n",
       "      <th>VRDeck</th>\n",
       "      <th>Name</th>\n",
       "      <th>Transported</th>\n",
       "    </tr>\n",
       "  </thead>\n",
       "  <tbody>\n",
       "    <tr>\n",
       "      <th>0</th>\n",
       "      <td>0001_01</td>\n",
       "      <td>0</td>\n",
       "      <td>False</td>\n",
       "      <td>B/0/P</td>\n",
       "      <td>TRAPPIST-1e</td>\n",
       "      <td>39.0</td>\n",
       "      <td>False</td>\n",
       "      <td>0.0</td>\n",
       "      <td>0.0</td>\n",
       "      <td>0.0</td>\n",
       "      <td>0.0</td>\n",
       "      <td>0.0</td>\n",
       "      <td>Maham Ofracculy</td>\n",
       "      <td>False</td>\n",
       "    </tr>\n",
       "    <tr>\n",
       "      <th>1</th>\n",
       "      <td>0002_01</td>\n",
       "      <td>1</td>\n",
       "      <td>False</td>\n",
       "      <td>F/0/S</td>\n",
       "      <td>TRAPPIST-1e</td>\n",
       "      <td>24.0</td>\n",
       "      <td>False</td>\n",
       "      <td>109.0</td>\n",
       "      <td>9.0</td>\n",
       "      <td>25.0</td>\n",
       "      <td>549.0</td>\n",
       "      <td>44.0</td>\n",
       "      <td>Juanna Vines</td>\n",
       "      <td>True</td>\n",
       "    </tr>\n",
       "    <tr>\n",
       "      <th>2</th>\n",
       "      <td>0003_01</td>\n",
       "      <td>0</td>\n",
       "      <td>False</td>\n",
       "      <td>A/0/S</td>\n",
       "      <td>TRAPPIST-1e</td>\n",
       "      <td>58.0</td>\n",
       "      <td>True</td>\n",
       "      <td>43.0</td>\n",
       "      <td>3576.0</td>\n",
       "      <td>0.0</td>\n",
       "      <td>6715.0</td>\n",
       "      <td>49.0</td>\n",
       "      <td>Altark Susent</td>\n",
       "      <td>False</td>\n",
       "    </tr>\n",
       "    <tr>\n",
       "      <th>3</th>\n",
       "      <td>0003_02</td>\n",
       "      <td>0</td>\n",
       "      <td>False</td>\n",
       "      <td>A/0/S</td>\n",
       "      <td>TRAPPIST-1e</td>\n",
       "      <td>33.0</td>\n",
       "      <td>False</td>\n",
       "      <td>0.0</td>\n",
       "      <td>1283.0</td>\n",
       "      <td>371.0</td>\n",
       "      <td>3329.0</td>\n",
       "      <td>193.0</td>\n",
       "      <td>Solam Susent</td>\n",
       "      <td>False</td>\n",
       "    </tr>\n",
       "    <tr>\n",
       "      <th>4</th>\n",
       "      <td>0004_01</td>\n",
       "      <td>1</td>\n",
       "      <td>False</td>\n",
       "      <td>F/1/S</td>\n",
       "      <td>TRAPPIST-1e</td>\n",
       "      <td>16.0</td>\n",
       "      <td>False</td>\n",
       "      <td>303.0</td>\n",
       "      <td>70.0</td>\n",
       "      <td>151.0</td>\n",
       "      <td>565.0</td>\n",
       "      <td>2.0</td>\n",
       "      <td>Willy Santantines</td>\n",
       "      <td>True</td>\n",
       "    </tr>\n",
       "  </tbody>\n",
       "</table>\n",
       "</div>"
      ],
      "text/plain": [
       "  PassengerId  HomePlanet  CryoSleep  Cabin  Destination   Age    VIP  \\\n",
       "0     0001_01           0      False  B/0/P  TRAPPIST-1e  39.0  False   \n",
       "1     0002_01           1      False  F/0/S  TRAPPIST-1e  24.0  False   \n",
       "2     0003_01           0      False  A/0/S  TRAPPIST-1e  58.0   True   \n",
       "3     0003_02           0      False  A/0/S  TRAPPIST-1e  33.0  False   \n",
       "4     0004_01           1      False  F/1/S  TRAPPIST-1e  16.0  False   \n",
       "\n",
       "   RoomService  FoodCourt  ShoppingMall     Spa  VRDeck               Name  \\\n",
       "0          0.0        0.0           0.0     0.0     0.0    Maham Ofracculy   \n",
       "1        109.0        9.0          25.0   549.0    44.0       Juanna Vines   \n",
       "2         43.0     3576.0           0.0  6715.0    49.0      Altark Susent   \n",
       "3          0.0     1283.0         371.0  3329.0   193.0       Solam Susent   \n",
       "4        303.0       70.0         151.0   565.0     2.0  Willy Santantines   \n",
       "\n",
       "   Transported  \n",
       "0        False  \n",
       "1         True  \n",
       "2        False  \n",
       "3        False  \n",
       "4         True  "
      ]
     },
     "execution_count": 11,
     "metadata": {},
     "output_type": "execute_result"
    }
   ],
   "source": [
    "#Homeplanet\n",
    "unique_planets = df['HomePlanet'].unique()\n",
    "# unique_planets\n",
    "df['HomePlanet'] = df['HomePlanet'].map(dict(zip(unique_planets,list(range(len(unique_planets))))))\n",
    "df.head()"
   ]
  },
  {
   "cell_type": "code",
   "execution_count": 12,
   "id": "64932d8f",
   "metadata": {
    "execution": {
     "iopub.execute_input": "2024-06-22T10:02:31.418818Z",
     "iopub.status.busy": "2024-06-22T10:02:31.418409Z",
     "iopub.status.idle": "2024-06-22T10:02:31.440835Z",
     "shell.execute_reply": "2024-06-22T10:02:31.439487Z"
    },
    "papermill": {
     "duration": 0.03796,
     "end_time": "2024-06-22T10:02:31.443497",
     "exception": false,
     "start_time": "2024-06-22T10:02:31.405537",
     "status": "completed"
    },
    "tags": []
   },
   "outputs": [
    {
     "data": {
      "text/html": [
       "<div>\n",
       "<style scoped>\n",
       "    .dataframe tbody tr th:only-of-type {\n",
       "        vertical-align: middle;\n",
       "    }\n",
       "\n",
       "    .dataframe tbody tr th {\n",
       "        vertical-align: top;\n",
       "    }\n",
       "\n",
       "    .dataframe thead th {\n",
       "        text-align: right;\n",
       "    }\n",
       "</style>\n",
       "<table border=\"1\" class=\"dataframe\">\n",
       "  <thead>\n",
       "    <tr style=\"text-align: right;\">\n",
       "      <th></th>\n",
       "      <th>PassengerId</th>\n",
       "      <th>HomePlanet</th>\n",
       "      <th>CryoSleep</th>\n",
       "      <th>Cabin</th>\n",
       "      <th>Destination</th>\n",
       "      <th>Age</th>\n",
       "      <th>VIP</th>\n",
       "      <th>RoomService</th>\n",
       "      <th>FoodCourt</th>\n",
       "      <th>ShoppingMall</th>\n",
       "      <th>Spa</th>\n",
       "      <th>VRDeck</th>\n",
       "      <th>Name</th>\n",
       "      <th>Transported</th>\n",
       "    </tr>\n",
       "  </thead>\n",
       "  <tbody>\n",
       "    <tr>\n",
       "      <th>0</th>\n",
       "      <td>0001_01</td>\n",
       "      <td>0</td>\n",
       "      <td>False</td>\n",
       "      <td>B/0/P</td>\n",
       "      <td>0</td>\n",
       "      <td>39.0</td>\n",
       "      <td>False</td>\n",
       "      <td>0.0</td>\n",
       "      <td>0.0</td>\n",
       "      <td>0.0</td>\n",
       "      <td>0.0</td>\n",
       "      <td>0.0</td>\n",
       "      <td>Maham Ofracculy</td>\n",
       "      <td>False</td>\n",
       "    </tr>\n",
       "    <tr>\n",
       "      <th>1</th>\n",
       "      <td>0002_01</td>\n",
       "      <td>1</td>\n",
       "      <td>False</td>\n",
       "      <td>F/0/S</td>\n",
       "      <td>0</td>\n",
       "      <td>24.0</td>\n",
       "      <td>False</td>\n",
       "      <td>109.0</td>\n",
       "      <td>9.0</td>\n",
       "      <td>25.0</td>\n",
       "      <td>549.0</td>\n",
       "      <td>44.0</td>\n",
       "      <td>Juanna Vines</td>\n",
       "      <td>True</td>\n",
       "    </tr>\n",
       "    <tr>\n",
       "      <th>2</th>\n",
       "      <td>0003_01</td>\n",
       "      <td>0</td>\n",
       "      <td>False</td>\n",
       "      <td>A/0/S</td>\n",
       "      <td>0</td>\n",
       "      <td>58.0</td>\n",
       "      <td>True</td>\n",
       "      <td>43.0</td>\n",
       "      <td>3576.0</td>\n",
       "      <td>0.0</td>\n",
       "      <td>6715.0</td>\n",
       "      <td>49.0</td>\n",
       "      <td>Altark Susent</td>\n",
       "      <td>False</td>\n",
       "    </tr>\n",
       "    <tr>\n",
       "      <th>3</th>\n",
       "      <td>0003_02</td>\n",
       "      <td>0</td>\n",
       "      <td>False</td>\n",
       "      <td>A/0/S</td>\n",
       "      <td>0</td>\n",
       "      <td>33.0</td>\n",
       "      <td>False</td>\n",
       "      <td>0.0</td>\n",
       "      <td>1283.0</td>\n",
       "      <td>371.0</td>\n",
       "      <td>3329.0</td>\n",
       "      <td>193.0</td>\n",
       "      <td>Solam Susent</td>\n",
       "      <td>False</td>\n",
       "    </tr>\n",
       "    <tr>\n",
       "      <th>4</th>\n",
       "      <td>0004_01</td>\n",
       "      <td>1</td>\n",
       "      <td>False</td>\n",
       "      <td>F/1/S</td>\n",
       "      <td>0</td>\n",
       "      <td>16.0</td>\n",
       "      <td>False</td>\n",
       "      <td>303.0</td>\n",
       "      <td>70.0</td>\n",
       "      <td>151.0</td>\n",
       "      <td>565.0</td>\n",
       "      <td>2.0</td>\n",
       "      <td>Willy Santantines</td>\n",
       "      <td>True</td>\n",
       "    </tr>\n",
       "  </tbody>\n",
       "</table>\n",
       "</div>"
      ],
      "text/plain": [
       "  PassengerId  HomePlanet  CryoSleep  Cabin  Destination   Age    VIP  \\\n",
       "0     0001_01           0      False  B/0/P            0  39.0  False   \n",
       "1     0002_01           1      False  F/0/S            0  24.0  False   \n",
       "2     0003_01           0      False  A/0/S            0  58.0   True   \n",
       "3     0003_02           0      False  A/0/S            0  33.0  False   \n",
       "4     0004_01           1      False  F/1/S            0  16.0  False   \n",
       "\n",
       "   RoomService  FoodCourt  ShoppingMall     Spa  VRDeck               Name  \\\n",
       "0          0.0        0.0           0.0     0.0     0.0    Maham Ofracculy   \n",
       "1        109.0        9.0          25.0   549.0    44.0       Juanna Vines   \n",
       "2         43.0     3576.0           0.0  6715.0    49.0      Altark Susent   \n",
       "3          0.0     1283.0         371.0  3329.0   193.0       Solam Susent   \n",
       "4        303.0       70.0         151.0   565.0     2.0  Willy Santantines   \n",
       "\n",
       "   Transported  \n",
       "0        False  \n",
       "1         True  \n",
       "2        False  \n",
       "3        False  \n",
       "4         True  "
      ]
     },
     "execution_count": 12,
     "metadata": {},
     "output_type": "execute_result"
    }
   ],
   "source": [
    "#Destination\n",
    "unique_dest = df['Destination'].unique()\n",
    "# unique_dest\n",
    "df['Destination'] = df['Destination'].map(dict(zip(unique_dest,list(range(len(unique_dest))))))\n",
    "df.head()\n"
   ]
  },
  {
   "cell_type": "code",
   "execution_count": 13,
   "id": "1aa578f6",
   "metadata": {
    "execution": {
     "iopub.execute_input": "2024-06-22T10:02:31.470720Z",
     "iopub.status.busy": "2024-06-22T10:02:31.469798Z",
     "iopub.status.idle": "2024-06-22T10:02:31.493911Z",
     "shell.execute_reply": "2024-06-22T10:02:31.492730Z"
    },
    "papermill": {
     "duration": 0.040379,
     "end_time": "2024-06-22T10:02:31.496404",
     "exception": false,
     "start_time": "2024-06-22T10:02:31.456025",
     "status": "completed"
    },
    "tags": []
   },
   "outputs": [
    {
     "data": {
      "text/html": [
       "<div>\n",
       "<style scoped>\n",
       "    .dataframe tbody tr th:only-of-type {\n",
       "        vertical-align: middle;\n",
       "    }\n",
       "\n",
       "    .dataframe tbody tr th {\n",
       "        vertical-align: top;\n",
       "    }\n",
       "\n",
       "    .dataframe thead th {\n",
       "        text-align: right;\n",
       "    }\n",
       "</style>\n",
       "<table border=\"1\" class=\"dataframe\">\n",
       "  <thead>\n",
       "    <tr style=\"text-align: right;\">\n",
       "      <th></th>\n",
       "      <th>PassengerId</th>\n",
       "      <th>HomePlanet</th>\n",
       "      <th>CryoSleep</th>\n",
       "      <th>Cabin</th>\n",
       "      <th>Destination</th>\n",
       "      <th>Age</th>\n",
       "      <th>VIP</th>\n",
       "      <th>RoomService</th>\n",
       "      <th>FoodCourt</th>\n",
       "      <th>ShoppingMall</th>\n",
       "      <th>Spa</th>\n",
       "      <th>VRDeck</th>\n",
       "      <th>Name</th>\n",
       "      <th>Transported</th>\n",
       "    </tr>\n",
       "  </thead>\n",
       "  <tbody>\n",
       "    <tr>\n",
       "      <th>0</th>\n",
       "      <td>0001_01</td>\n",
       "      <td>0</td>\n",
       "      <td>0</td>\n",
       "      <td>B/0/P</td>\n",
       "      <td>0</td>\n",
       "      <td>39.0</td>\n",
       "      <td>False</td>\n",
       "      <td>0.0</td>\n",
       "      <td>0.0</td>\n",
       "      <td>0.0</td>\n",
       "      <td>0.0</td>\n",
       "      <td>0.0</td>\n",
       "      <td>Maham Ofracculy</td>\n",
       "      <td>False</td>\n",
       "    </tr>\n",
       "    <tr>\n",
       "      <th>1</th>\n",
       "      <td>0002_01</td>\n",
       "      <td>1</td>\n",
       "      <td>0</td>\n",
       "      <td>F/0/S</td>\n",
       "      <td>0</td>\n",
       "      <td>24.0</td>\n",
       "      <td>False</td>\n",
       "      <td>109.0</td>\n",
       "      <td>9.0</td>\n",
       "      <td>25.0</td>\n",
       "      <td>549.0</td>\n",
       "      <td>44.0</td>\n",
       "      <td>Juanna Vines</td>\n",
       "      <td>True</td>\n",
       "    </tr>\n",
       "    <tr>\n",
       "      <th>2</th>\n",
       "      <td>0003_01</td>\n",
       "      <td>0</td>\n",
       "      <td>0</td>\n",
       "      <td>A/0/S</td>\n",
       "      <td>0</td>\n",
       "      <td>58.0</td>\n",
       "      <td>True</td>\n",
       "      <td>43.0</td>\n",
       "      <td>3576.0</td>\n",
       "      <td>0.0</td>\n",
       "      <td>6715.0</td>\n",
       "      <td>49.0</td>\n",
       "      <td>Altark Susent</td>\n",
       "      <td>False</td>\n",
       "    </tr>\n",
       "    <tr>\n",
       "      <th>3</th>\n",
       "      <td>0003_02</td>\n",
       "      <td>0</td>\n",
       "      <td>0</td>\n",
       "      <td>A/0/S</td>\n",
       "      <td>0</td>\n",
       "      <td>33.0</td>\n",
       "      <td>False</td>\n",
       "      <td>0.0</td>\n",
       "      <td>1283.0</td>\n",
       "      <td>371.0</td>\n",
       "      <td>3329.0</td>\n",
       "      <td>193.0</td>\n",
       "      <td>Solam Susent</td>\n",
       "      <td>False</td>\n",
       "    </tr>\n",
       "    <tr>\n",
       "      <th>4</th>\n",
       "      <td>0004_01</td>\n",
       "      <td>1</td>\n",
       "      <td>0</td>\n",
       "      <td>F/1/S</td>\n",
       "      <td>0</td>\n",
       "      <td>16.0</td>\n",
       "      <td>False</td>\n",
       "      <td>303.0</td>\n",
       "      <td>70.0</td>\n",
       "      <td>151.0</td>\n",
       "      <td>565.0</td>\n",
       "      <td>2.0</td>\n",
       "      <td>Willy Santantines</td>\n",
       "      <td>True</td>\n",
       "    </tr>\n",
       "  </tbody>\n",
       "</table>\n",
       "</div>"
      ],
      "text/plain": [
       "  PassengerId  HomePlanet  CryoSleep  Cabin  Destination   Age    VIP  \\\n",
       "0     0001_01           0          0  B/0/P            0  39.0  False   \n",
       "1     0002_01           1          0  F/0/S            0  24.0  False   \n",
       "2     0003_01           0          0  A/0/S            0  58.0   True   \n",
       "3     0003_02           0          0  A/0/S            0  33.0  False   \n",
       "4     0004_01           1          0  F/1/S            0  16.0  False   \n",
       "\n",
       "   RoomService  FoodCourt  ShoppingMall     Spa  VRDeck               Name  \\\n",
       "0          0.0        0.0           0.0     0.0     0.0    Maham Ofracculy   \n",
       "1        109.0        9.0          25.0   549.0    44.0       Juanna Vines   \n",
       "2         43.0     3576.0           0.0  6715.0    49.0      Altark Susent   \n",
       "3          0.0     1283.0         371.0  3329.0   193.0       Solam Susent   \n",
       "4        303.0       70.0         151.0   565.0     2.0  Willy Santantines   \n",
       "\n",
       "   Transported  \n",
       "0        False  \n",
       "1         True  \n",
       "2        False  \n",
       "3        False  \n",
       "4         True  "
      ]
     },
     "execution_count": 13,
     "metadata": {},
     "output_type": "execute_result"
    }
   ],
   "source": [
    "#CryoSleep\n",
    "unique_sleep = df['CryoSleep'].unique()\n",
    "# unique_sleep\n",
    "df['CryoSleep'] = df['CryoSleep'].map(dict(zip(unique_sleep,list(range(len(unique_sleep))))))\n",
    "df.head()\n"
   ]
  },
  {
   "cell_type": "code",
   "execution_count": 14,
   "id": "c7c2a931",
   "metadata": {
    "execution": {
     "iopub.execute_input": "2024-06-22T10:02:31.522823Z",
     "iopub.status.busy": "2024-06-22T10:02:31.522336Z",
     "iopub.status.idle": "2024-06-22T10:02:31.545087Z",
     "shell.execute_reply": "2024-06-22T10:02:31.543992Z"
    },
    "papermill": {
     "duration": 0.038804,
     "end_time": "2024-06-22T10:02:31.548079",
     "exception": false,
     "start_time": "2024-06-22T10:02:31.509275",
     "status": "completed"
    },
    "tags": []
   },
   "outputs": [
    {
     "data": {
      "text/html": [
       "<div>\n",
       "<style scoped>\n",
       "    .dataframe tbody tr th:only-of-type {\n",
       "        vertical-align: middle;\n",
       "    }\n",
       "\n",
       "    .dataframe tbody tr th {\n",
       "        vertical-align: top;\n",
       "    }\n",
       "\n",
       "    .dataframe thead th {\n",
       "        text-align: right;\n",
       "    }\n",
       "</style>\n",
       "<table border=\"1\" class=\"dataframe\">\n",
       "  <thead>\n",
       "    <tr style=\"text-align: right;\">\n",
       "      <th></th>\n",
       "      <th>PassengerId</th>\n",
       "      <th>HomePlanet</th>\n",
       "      <th>CryoSleep</th>\n",
       "      <th>Cabin</th>\n",
       "      <th>Destination</th>\n",
       "      <th>Age</th>\n",
       "      <th>VIP</th>\n",
       "      <th>RoomService</th>\n",
       "      <th>FoodCourt</th>\n",
       "      <th>ShoppingMall</th>\n",
       "      <th>Spa</th>\n",
       "      <th>VRDeck</th>\n",
       "      <th>Name</th>\n",
       "      <th>Transported</th>\n",
       "    </tr>\n",
       "  </thead>\n",
       "  <tbody>\n",
       "    <tr>\n",
       "      <th>0</th>\n",
       "      <td>0001_01</td>\n",
       "      <td>0</td>\n",
       "      <td>0</td>\n",
       "      <td>B/0/P</td>\n",
       "      <td>0</td>\n",
       "      <td>39.0</td>\n",
       "      <td>0</td>\n",
       "      <td>0.0</td>\n",
       "      <td>0.0</td>\n",
       "      <td>0.0</td>\n",
       "      <td>0.0</td>\n",
       "      <td>0.0</td>\n",
       "      <td>Maham Ofracculy</td>\n",
       "      <td>False</td>\n",
       "    </tr>\n",
       "    <tr>\n",
       "      <th>1</th>\n",
       "      <td>0002_01</td>\n",
       "      <td>1</td>\n",
       "      <td>0</td>\n",
       "      <td>F/0/S</td>\n",
       "      <td>0</td>\n",
       "      <td>24.0</td>\n",
       "      <td>0</td>\n",
       "      <td>109.0</td>\n",
       "      <td>9.0</td>\n",
       "      <td>25.0</td>\n",
       "      <td>549.0</td>\n",
       "      <td>44.0</td>\n",
       "      <td>Juanna Vines</td>\n",
       "      <td>True</td>\n",
       "    </tr>\n",
       "    <tr>\n",
       "      <th>2</th>\n",
       "      <td>0003_01</td>\n",
       "      <td>0</td>\n",
       "      <td>0</td>\n",
       "      <td>A/0/S</td>\n",
       "      <td>0</td>\n",
       "      <td>58.0</td>\n",
       "      <td>1</td>\n",
       "      <td>43.0</td>\n",
       "      <td>3576.0</td>\n",
       "      <td>0.0</td>\n",
       "      <td>6715.0</td>\n",
       "      <td>49.0</td>\n",
       "      <td>Altark Susent</td>\n",
       "      <td>False</td>\n",
       "    </tr>\n",
       "    <tr>\n",
       "      <th>3</th>\n",
       "      <td>0003_02</td>\n",
       "      <td>0</td>\n",
       "      <td>0</td>\n",
       "      <td>A/0/S</td>\n",
       "      <td>0</td>\n",
       "      <td>33.0</td>\n",
       "      <td>0</td>\n",
       "      <td>0.0</td>\n",
       "      <td>1283.0</td>\n",
       "      <td>371.0</td>\n",
       "      <td>3329.0</td>\n",
       "      <td>193.0</td>\n",
       "      <td>Solam Susent</td>\n",
       "      <td>False</td>\n",
       "    </tr>\n",
       "    <tr>\n",
       "      <th>4</th>\n",
       "      <td>0004_01</td>\n",
       "      <td>1</td>\n",
       "      <td>0</td>\n",
       "      <td>F/1/S</td>\n",
       "      <td>0</td>\n",
       "      <td>16.0</td>\n",
       "      <td>0</td>\n",
       "      <td>303.0</td>\n",
       "      <td>70.0</td>\n",
       "      <td>151.0</td>\n",
       "      <td>565.0</td>\n",
       "      <td>2.0</td>\n",
       "      <td>Willy Santantines</td>\n",
       "      <td>True</td>\n",
       "    </tr>\n",
       "  </tbody>\n",
       "</table>\n",
       "</div>"
      ],
      "text/plain": [
       "  PassengerId  HomePlanet  CryoSleep  Cabin  Destination   Age  VIP  \\\n",
       "0     0001_01           0          0  B/0/P            0  39.0    0   \n",
       "1     0002_01           1          0  F/0/S            0  24.0    0   \n",
       "2     0003_01           0          0  A/0/S            0  58.0    1   \n",
       "3     0003_02           0          0  A/0/S            0  33.0    0   \n",
       "4     0004_01           1          0  F/1/S            0  16.0    0   \n",
       "\n",
       "   RoomService  FoodCourt  ShoppingMall     Spa  VRDeck               Name  \\\n",
       "0          0.0        0.0           0.0     0.0     0.0    Maham Ofracculy   \n",
       "1        109.0        9.0          25.0   549.0    44.0       Juanna Vines   \n",
       "2         43.0     3576.0           0.0  6715.0    49.0      Altark Susent   \n",
       "3          0.0     1283.0         371.0  3329.0   193.0       Solam Susent   \n",
       "4        303.0       70.0         151.0   565.0     2.0  Willy Santantines   \n",
       "\n",
       "   Transported  \n",
       "0        False  \n",
       "1         True  \n",
       "2        False  \n",
       "3        False  \n",
       "4         True  "
      ]
     },
     "execution_count": 14,
     "metadata": {},
     "output_type": "execute_result"
    }
   ],
   "source": [
    "#VIP\n",
    "unique_VIP = df['VIP'].unique()\n",
    "# unique_dest\n",
    "df['VIP'] = df['VIP'].map(dict(zip(unique_VIP,list(range(len(unique_VIP))))))\n",
    "df.head()"
   ]
  },
  {
   "cell_type": "markdown",
   "id": "76a8d15e",
   "metadata": {
    "papermill": {
     "duration": 0.011704,
     "end_time": "2024-06-22T10:02:31.572393",
     "exception": false,
     "start_time": "2024-06-22T10:02:31.560689",
     "status": "completed"
    },
    "tags": []
   },
   "source": [
    "Removing unwanted or unecessary columns from the df (drop)"
   ]
  },
  {
   "cell_type": "code",
   "execution_count": 15,
   "id": "4fe60818",
   "metadata": {
    "execution": {
     "iopub.execute_input": "2024-06-22T10:02:31.598176Z",
     "iopub.status.busy": "2024-06-22T10:02:31.597751Z",
     "iopub.status.idle": "2024-06-22T10:02:31.607771Z",
     "shell.execute_reply": "2024-06-22T10:02:31.606673Z"
    },
    "papermill": {
     "duration": 0.025806,
     "end_time": "2024-06-22T10:02:31.610249",
     "exception": false,
     "start_time": "2024-06-22T10:02:31.584443",
     "status": "completed"
    },
    "tags": []
   },
   "outputs": [],
   "source": [
    "df.drop(['Name'], axis=1, inplace=True)"
   ]
  },
  {
   "cell_type": "code",
   "execution_count": 16,
   "id": "d4561f19",
   "metadata": {
    "execution": {
     "iopub.execute_input": "2024-06-22T10:02:31.636615Z",
     "iopub.status.busy": "2024-06-22T10:02:31.636224Z",
     "iopub.status.idle": "2024-06-22T10:02:31.644105Z",
     "shell.execute_reply": "2024-06-22T10:02:31.642862Z"
    },
    "papermill": {
     "duration": 0.024155,
     "end_time": "2024-06-22T10:02:31.646469",
     "exception": false,
     "start_time": "2024-06-22T10:02:31.622314",
     "status": "completed"
    },
    "tags": []
   },
   "outputs": [],
   "source": [
    "if 'train' in filepath:\n",
    "    df.drop(['PassengerId'],axis=1, inplace=True)"
   ]
  },
  {
   "cell_type": "code",
   "execution_count": 17,
   "id": "2ef0dfe0",
   "metadata": {
    "execution": {
     "iopub.execute_input": "2024-06-22T10:02:31.673931Z",
     "iopub.status.busy": "2024-06-22T10:02:31.673563Z",
     "iopub.status.idle": "2024-06-22T10:02:31.692249Z",
     "shell.execute_reply": "2024-06-22T10:02:31.691100Z"
    },
    "papermill": {
     "duration": 0.035197,
     "end_time": "2024-06-22T10:02:31.694591",
     "exception": false,
     "start_time": "2024-06-22T10:02:31.659394",
     "status": "completed"
    },
    "tags": []
   },
   "outputs": [
    {
     "data": {
      "text/html": [
       "<div>\n",
       "<style scoped>\n",
       "    .dataframe tbody tr th:only-of-type {\n",
       "        vertical-align: middle;\n",
       "    }\n",
       "\n",
       "    .dataframe tbody tr th {\n",
       "        vertical-align: top;\n",
       "    }\n",
       "\n",
       "    .dataframe thead th {\n",
       "        text-align: right;\n",
       "    }\n",
       "</style>\n",
       "<table border=\"1\" class=\"dataframe\">\n",
       "  <thead>\n",
       "    <tr style=\"text-align: right;\">\n",
       "      <th></th>\n",
       "      <th>HomePlanet</th>\n",
       "      <th>CryoSleep</th>\n",
       "      <th>Cabin</th>\n",
       "      <th>Destination</th>\n",
       "      <th>Age</th>\n",
       "      <th>VIP</th>\n",
       "      <th>RoomService</th>\n",
       "      <th>FoodCourt</th>\n",
       "      <th>ShoppingMall</th>\n",
       "      <th>Spa</th>\n",
       "      <th>VRDeck</th>\n",
       "      <th>Transported</th>\n",
       "    </tr>\n",
       "  </thead>\n",
       "  <tbody>\n",
       "    <tr>\n",
       "      <th>0</th>\n",
       "      <td>0</td>\n",
       "      <td>0</td>\n",
       "      <td>B/0/P</td>\n",
       "      <td>0</td>\n",
       "      <td>39.0</td>\n",
       "      <td>0</td>\n",
       "      <td>0.0</td>\n",
       "      <td>0.0</td>\n",
       "      <td>0.0</td>\n",
       "      <td>0.0</td>\n",
       "      <td>0.0</td>\n",
       "      <td>False</td>\n",
       "    </tr>\n",
       "    <tr>\n",
       "      <th>1</th>\n",
       "      <td>1</td>\n",
       "      <td>0</td>\n",
       "      <td>F/0/S</td>\n",
       "      <td>0</td>\n",
       "      <td>24.0</td>\n",
       "      <td>0</td>\n",
       "      <td>109.0</td>\n",
       "      <td>9.0</td>\n",
       "      <td>25.0</td>\n",
       "      <td>549.0</td>\n",
       "      <td>44.0</td>\n",
       "      <td>True</td>\n",
       "    </tr>\n",
       "    <tr>\n",
       "      <th>2</th>\n",
       "      <td>0</td>\n",
       "      <td>0</td>\n",
       "      <td>A/0/S</td>\n",
       "      <td>0</td>\n",
       "      <td>58.0</td>\n",
       "      <td>1</td>\n",
       "      <td>43.0</td>\n",
       "      <td>3576.0</td>\n",
       "      <td>0.0</td>\n",
       "      <td>6715.0</td>\n",
       "      <td>49.0</td>\n",
       "      <td>False</td>\n",
       "    </tr>\n",
       "    <tr>\n",
       "      <th>3</th>\n",
       "      <td>0</td>\n",
       "      <td>0</td>\n",
       "      <td>A/0/S</td>\n",
       "      <td>0</td>\n",
       "      <td>33.0</td>\n",
       "      <td>0</td>\n",
       "      <td>0.0</td>\n",
       "      <td>1283.0</td>\n",
       "      <td>371.0</td>\n",
       "      <td>3329.0</td>\n",
       "      <td>193.0</td>\n",
       "      <td>False</td>\n",
       "    </tr>\n",
       "    <tr>\n",
       "      <th>4</th>\n",
       "      <td>1</td>\n",
       "      <td>0</td>\n",
       "      <td>F/1/S</td>\n",
       "      <td>0</td>\n",
       "      <td>16.0</td>\n",
       "      <td>0</td>\n",
       "      <td>303.0</td>\n",
       "      <td>70.0</td>\n",
       "      <td>151.0</td>\n",
       "      <td>565.0</td>\n",
       "      <td>2.0</td>\n",
       "      <td>True</td>\n",
       "    </tr>\n",
       "  </tbody>\n",
       "</table>\n",
       "</div>"
      ],
      "text/plain": [
       "   HomePlanet  CryoSleep  Cabin  Destination   Age  VIP  RoomService  \\\n",
       "0           0          0  B/0/P            0  39.0    0          0.0   \n",
       "1           1          0  F/0/S            0  24.0    0        109.0   \n",
       "2           0          0  A/0/S            0  58.0    1         43.0   \n",
       "3           0          0  A/0/S            0  33.0    0          0.0   \n",
       "4           1          0  F/1/S            0  16.0    0        303.0   \n",
       "\n",
       "   FoodCourt  ShoppingMall     Spa  VRDeck  Transported  \n",
       "0        0.0           0.0     0.0     0.0        False  \n",
       "1        9.0          25.0   549.0    44.0         True  \n",
       "2     3576.0           0.0  6715.0    49.0        False  \n",
       "3     1283.0         371.0  3329.0   193.0        False  \n",
       "4       70.0         151.0   565.0     2.0         True  "
      ]
     },
     "execution_count": 17,
     "metadata": {},
     "output_type": "execute_result"
    }
   ],
   "source": [
    "df.head()"
   ]
  },
  {
   "cell_type": "markdown",
   "id": "e71a5e9e",
   "metadata": {
    "papermill": {
     "duration": 0.011843,
     "end_time": "2024-06-22T10:02:31.718705",
     "exception": false,
     "start_time": "2024-06-22T10:02:31.706862",
     "status": "completed"
    },
    "tags": []
   },
   "source": [
    "Building two features for Cabin column (deck,port)"
   ]
  },
  {
   "cell_type": "code",
   "execution_count": 18,
   "id": "78eb41d1",
   "metadata": {
    "execution": {
     "iopub.execute_input": "2024-06-22T10:02:31.744364Z",
     "iopub.status.busy": "2024-06-22T10:02:31.743945Z",
     "iopub.status.idle": "2024-06-22T10:02:31.785059Z",
     "shell.execute_reply": "2024-06-22T10:02:31.783863Z"
    },
    "papermill": {
     "duration": 0.056624,
     "end_time": "2024-06-22T10:02:31.787335",
     "exception": false,
     "start_time": "2024-06-22T10:02:31.730711",
     "status": "completed"
    },
    "tags": []
   },
   "outputs": [
    {
     "data": {
      "text/html": [
       "<div>\n",
       "<style scoped>\n",
       "    .dataframe tbody tr th:only-of-type {\n",
       "        vertical-align: middle;\n",
       "    }\n",
       "\n",
       "    .dataframe tbody tr th {\n",
       "        vertical-align: top;\n",
       "    }\n",
       "\n",
       "    .dataframe thead th {\n",
       "        text-align: right;\n",
       "    }\n",
       "</style>\n",
       "<table border=\"1\" class=\"dataframe\">\n",
       "  <thead>\n",
       "    <tr style=\"text-align: right;\">\n",
       "      <th></th>\n",
       "      <th>HomePlanet</th>\n",
       "      <th>CryoSleep</th>\n",
       "      <th>Destination</th>\n",
       "      <th>Age</th>\n",
       "      <th>VIP</th>\n",
       "      <th>RoomService</th>\n",
       "      <th>FoodCourt</th>\n",
       "      <th>ShoppingMall</th>\n",
       "      <th>Spa</th>\n",
       "      <th>VRDeck</th>\n",
       "      <th>Transported</th>\n",
       "      <th>deck</th>\n",
       "      <th>port</th>\n",
       "    </tr>\n",
       "  </thead>\n",
       "  <tbody>\n",
       "    <tr>\n",
       "      <th>0</th>\n",
       "      <td>0</td>\n",
       "      <td>0</td>\n",
       "      <td>0</td>\n",
       "      <td>39.0</td>\n",
       "      <td>0</td>\n",
       "      <td>0.0</td>\n",
       "      <td>0.0</td>\n",
       "      <td>0.0</td>\n",
       "      <td>0.0</td>\n",
       "      <td>0.0</td>\n",
       "      <td>False</td>\n",
       "      <td>0</td>\n",
       "      <td>0</td>\n",
       "    </tr>\n",
       "    <tr>\n",
       "      <th>1</th>\n",
       "      <td>1</td>\n",
       "      <td>0</td>\n",
       "      <td>0</td>\n",
       "      <td>24.0</td>\n",
       "      <td>0</td>\n",
       "      <td>109.0</td>\n",
       "      <td>9.0</td>\n",
       "      <td>25.0</td>\n",
       "      <td>549.0</td>\n",
       "      <td>44.0</td>\n",
       "      <td>True</td>\n",
       "      <td>1</td>\n",
       "      <td>1</td>\n",
       "    </tr>\n",
       "    <tr>\n",
       "      <th>2</th>\n",
       "      <td>0</td>\n",
       "      <td>0</td>\n",
       "      <td>0</td>\n",
       "      <td>58.0</td>\n",
       "      <td>1</td>\n",
       "      <td>43.0</td>\n",
       "      <td>3576.0</td>\n",
       "      <td>0.0</td>\n",
       "      <td>6715.0</td>\n",
       "      <td>49.0</td>\n",
       "      <td>False</td>\n",
       "      <td>2</td>\n",
       "      <td>1</td>\n",
       "    </tr>\n",
       "    <tr>\n",
       "      <th>3</th>\n",
       "      <td>0</td>\n",
       "      <td>0</td>\n",
       "      <td>0</td>\n",
       "      <td>33.0</td>\n",
       "      <td>0</td>\n",
       "      <td>0.0</td>\n",
       "      <td>1283.0</td>\n",
       "      <td>371.0</td>\n",
       "      <td>3329.0</td>\n",
       "      <td>193.0</td>\n",
       "      <td>False</td>\n",
       "      <td>2</td>\n",
       "      <td>1</td>\n",
       "    </tr>\n",
       "    <tr>\n",
       "      <th>4</th>\n",
       "      <td>1</td>\n",
       "      <td>0</td>\n",
       "      <td>0</td>\n",
       "      <td>16.0</td>\n",
       "      <td>0</td>\n",
       "      <td>303.0</td>\n",
       "      <td>70.0</td>\n",
       "      <td>151.0</td>\n",
       "      <td>565.0</td>\n",
       "      <td>2.0</td>\n",
       "      <td>True</td>\n",
       "      <td>1</td>\n",
       "      <td>1</td>\n",
       "    </tr>\n",
       "  </tbody>\n",
       "</table>\n",
       "</div>"
      ],
      "text/plain": [
       "   HomePlanet  CryoSleep  Destination   Age  VIP  RoomService  FoodCourt  \\\n",
       "0           0          0            0  39.0    0          0.0        0.0   \n",
       "1           1          0            0  24.0    0        109.0        9.0   \n",
       "2           0          0            0  58.0    1         43.0     3576.0   \n",
       "3           0          0            0  33.0    0          0.0     1283.0   \n",
       "4           1          0            0  16.0    0        303.0       70.0   \n",
       "\n",
       "   ShoppingMall     Spa  VRDeck  Transported  deck  port  \n",
       "0           0.0     0.0     0.0        False     0     0  \n",
       "1          25.0   549.0    44.0         True     1     1  \n",
       "2           0.0  6715.0    49.0        False     2     1  \n",
       "3         371.0  3329.0   193.0        False     2     1  \n",
       "4         151.0   565.0     2.0         True     1     1  "
      ]
     },
     "execution_count": 18,
     "metadata": {},
     "output_type": "execute_result"
    }
   ],
   "source": [
    "df['deck'] = df['Cabin'].apply(lambda s: s[0] if pd.notnull(s) else 'M')\n",
    "df['port'] = df['Cabin'].apply(lambda s: s[-1] if pd.notnull(s) else 'M')\n",
    "\n",
    "unique_deck = df['deck'].unique()\n",
    "unique_port = df['port'].unique()\n",
    "\n",
    "df['deck'] = df['deck'].map(dict(zip(unique_deck,list(range(len(unique_deck))))))\n",
    "df['port'] = df['port'].map(dict(zip(unique_port,list(range(len(unique_port))))))\n",
    "\n",
    "df.drop(['Cabin'], axis=1, inplace=True)\n",
    "\n",
    "df.head()\n"
   ]
  },
  {
   "cell_type": "code",
   "execution_count": 19,
   "id": "4d433f96",
   "metadata": {
    "execution": {
     "iopub.execute_input": "2024-06-22T10:02:31.872486Z",
     "iopub.status.busy": "2024-06-22T10:02:31.872098Z",
     "iopub.status.idle": "2024-06-22T10:02:31.934139Z",
     "shell.execute_reply": "2024-06-22T10:02:31.933025Z"
    },
    "papermill": {
     "duration": 0.137068,
     "end_time": "2024-06-22T10:02:31.936753",
     "exception": false,
     "start_time": "2024-06-22T10:02:31.799685",
     "status": "completed"
    },
    "tags": []
   },
   "outputs": [],
   "source": [
    "df.to_csv('train_cleaned.csv')"
   ]
  },
  {
   "cell_type": "code",
   "execution_count": 20,
   "id": "ca95ad72",
   "metadata": {
    "execution": {
     "iopub.execute_input": "2024-06-22T10:02:31.964905Z",
     "iopub.status.busy": "2024-06-22T10:02:31.964550Z",
     "iopub.status.idle": "2024-06-22T10:02:31.998179Z",
     "shell.execute_reply": "2024-06-22T10:02:31.997043Z"
    },
    "jupyter": {
     "source_hidden": true
    },
    "papermill": {
     "duration": 0.050635,
     "end_time": "2024-06-22T10:02:32.000763",
     "exception": false,
     "start_time": "2024-06-22T10:02:31.950128",
     "status": "completed"
    },
    "tags": []
   },
   "outputs": [
    {
     "data": {
      "text/html": [
       "<div>\n",
       "<style scoped>\n",
       "    .dataframe tbody tr th:only-of-type {\n",
       "        vertical-align: middle;\n",
       "    }\n",
       "\n",
       "    .dataframe tbody tr th {\n",
       "        vertical-align: top;\n",
       "    }\n",
       "\n",
       "    .dataframe thead th {\n",
       "        text-align: right;\n",
       "    }\n",
       "</style>\n",
       "<table border=\"1\" class=\"dataframe\">\n",
       "  <thead>\n",
       "    <tr style=\"text-align: right;\">\n",
       "      <th></th>\n",
       "      <th>Unnamed: 0</th>\n",
       "      <th>HomePlanet</th>\n",
       "      <th>CryoSleep</th>\n",
       "      <th>Destination</th>\n",
       "      <th>Age</th>\n",
       "      <th>VIP</th>\n",
       "      <th>RoomService</th>\n",
       "      <th>FoodCourt</th>\n",
       "      <th>ShoppingMall</th>\n",
       "      <th>Spa</th>\n",
       "      <th>VRDeck</th>\n",
       "      <th>Transported</th>\n",
       "      <th>deck</th>\n",
       "      <th>port</th>\n",
       "    </tr>\n",
       "  </thead>\n",
       "  <tbody>\n",
       "    <tr>\n",
       "      <th>0</th>\n",
       "      <td>0</td>\n",
       "      <td>0</td>\n",
       "      <td>0</td>\n",
       "      <td>0</td>\n",
       "      <td>39.0</td>\n",
       "      <td>0</td>\n",
       "      <td>0.0</td>\n",
       "      <td>0.0</td>\n",
       "      <td>0.0</td>\n",
       "      <td>0.0</td>\n",
       "      <td>0.0</td>\n",
       "      <td>False</td>\n",
       "      <td>0</td>\n",
       "      <td>0</td>\n",
       "    </tr>\n",
       "    <tr>\n",
       "      <th>1</th>\n",
       "      <td>1</td>\n",
       "      <td>1</td>\n",
       "      <td>0</td>\n",
       "      <td>0</td>\n",
       "      <td>24.0</td>\n",
       "      <td>0</td>\n",
       "      <td>109.0</td>\n",
       "      <td>9.0</td>\n",
       "      <td>25.0</td>\n",
       "      <td>549.0</td>\n",
       "      <td>44.0</td>\n",
       "      <td>True</td>\n",
       "      <td>1</td>\n",
       "      <td>1</td>\n",
       "    </tr>\n",
       "    <tr>\n",
       "      <th>2</th>\n",
       "      <td>2</td>\n",
       "      <td>0</td>\n",
       "      <td>0</td>\n",
       "      <td>0</td>\n",
       "      <td>58.0</td>\n",
       "      <td>1</td>\n",
       "      <td>43.0</td>\n",
       "      <td>3576.0</td>\n",
       "      <td>0.0</td>\n",
       "      <td>6715.0</td>\n",
       "      <td>49.0</td>\n",
       "      <td>False</td>\n",
       "      <td>2</td>\n",
       "      <td>1</td>\n",
       "    </tr>\n",
       "    <tr>\n",
       "      <th>3</th>\n",
       "      <td>3</td>\n",
       "      <td>0</td>\n",
       "      <td>0</td>\n",
       "      <td>0</td>\n",
       "      <td>33.0</td>\n",
       "      <td>0</td>\n",
       "      <td>0.0</td>\n",
       "      <td>1283.0</td>\n",
       "      <td>371.0</td>\n",
       "      <td>3329.0</td>\n",
       "      <td>193.0</td>\n",
       "      <td>False</td>\n",
       "      <td>2</td>\n",
       "      <td>1</td>\n",
       "    </tr>\n",
       "    <tr>\n",
       "      <th>4</th>\n",
       "      <td>4</td>\n",
       "      <td>1</td>\n",
       "      <td>0</td>\n",
       "      <td>0</td>\n",
       "      <td>16.0</td>\n",
       "      <td>0</td>\n",
       "      <td>303.0</td>\n",
       "      <td>70.0</td>\n",
       "      <td>151.0</td>\n",
       "      <td>565.0</td>\n",
       "      <td>2.0</td>\n",
       "      <td>True</td>\n",
       "      <td>1</td>\n",
       "      <td>1</td>\n",
       "    </tr>\n",
       "  </tbody>\n",
       "</table>\n",
       "</div>"
      ],
      "text/plain": [
       "   Unnamed: 0  HomePlanet  CryoSleep  Destination   Age  VIP  RoomService  \\\n",
       "0           0           0          0            0  39.0    0          0.0   \n",
       "1           1           1          0            0  24.0    0        109.0   \n",
       "2           2           0          0            0  58.0    1         43.0   \n",
       "3           3           0          0            0  33.0    0          0.0   \n",
       "4           4           1          0            0  16.0    0        303.0   \n",
       "\n",
       "   FoodCourt  ShoppingMall     Spa  VRDeck  Transported  deck  port  \n",
       "0        0.0           0.0     0.0     0.0        False     0     0  \n",
       "1        9.0          25.0   549.0    44.0         True     1     1  \n",
       "2     3576.0           0.0  6715.0    49.0        False     2     1  \n",
       "3     1283.0         371.0  3329.0   193.0        False     2     1  \n",
       "4       70.0         151.0   565.0     2.0         True     1     1  "
      ]
     },
     "execution_count": 20,
     "metadata": {},
     "output_type": "execute_result"
    }
   ],
   "source": [
    "pf = pd.read_csv('train_cleaned.csv')\n",
    "pf.head()"
   ]
  },
  {
   "cell_type": "markdown",
   "id": "7535c44d",
   "metadata": {
    "papermill": {
     "duration": 0.012548,
     "end_time": "2024-06-22T10:02:32.026634",
     "exception": false,
     "start_time": "2024-06-22T10:02:32.014086",
     "status": "completed"
    },
    "tags": []
   },
   "source": [
    "# Modelling and Training Dataset"
   ]
  },
  {
   "cell_type": "code",
   "execution_count": 21,
   "id": "9cdd1a12",
   "metadata": {
    "execution": {
     "iopub.execute_input": "2024-06-22T10:02:32.054092Z",
     "iopub.status.busy": "2024-06-22T10:02:32.053702Z",
     "iopub.status.idle": "2024-06-22T10:02:32.060893Z",
     "shell.execute_reply": "2024-06-22T10:02:32.059764Z"
    },
    "papermill": {
     "duration": 0.023794,
     "end_time": "2024-06-22T10:02:32.063249",
     "exception": false,
     "start_time": "2024-06-22T10:02:32.039455",
     "status": "completed"
    },
    "tags": []
   },
   "outputs": [],
   "source": [
    "df_train = pf\n",
    "X = df_train.drop([\"Transported\"],axis = 1).values\n",
    "y = df_train[\"Transported\"].values"
   ]
  },
  {
   "cell_type": "code",
   "execution_count": 22,
   "id": "4081f8d3",
   "metadata": {
    "execution": {
     "iopub.execute_input": "2024-06-22T10:02:32.090924Z",
     "iopub.status.busy": "2024-06-22T10:02:32.090569Z",
     "iopub.status.idle": "2024-06-22T10:02:32.101540Z",
     "shell.execute_reply": "2024-06-22T10:02:32.100485Z"
    },
    "papermill": {
     "duration": 0.028186,
     "end_time": "2024-06-22T10:02:32.104648",
     "exception": false,
     "start_time": "2024-06-22T10:02:32.076462",
     "status": "completed"
    },
    "tags": []
   },
   "outputs": [
    {
     "data": {
      "text/plain": [
       "((6954, 13), (6954,), (1739, 13), (1739,))"
      ]
     },
     "execution_count": 22,
     "metadata": {},
     "output_type": "execute_result"
    }
   ],
   "source": [
    "X_train,X_test,y_train,y_test = train_test_split(X,y,random_state=42,test_size=0.2)\n",
    "X_train.shape,y_train.shape, X_test.shape, y_test.shape"
   ]
  },
  {
   "cell_type": "markdown",
   "id": "9d60b662",
   "metadata": {
    "papermill": {
     "duration": 0.013335,
     "end_time": "2024-06-22T10:02:32.133533",
     "exception": false,
     "start_time": "2024-06-22T10:02:32.120198",
     "status": "completed"
    },
    "tags": []
   },
   "source": [
    "Fitting some classification models"
   ]
  },
  {
   "cell_type": "code",
   "execution_count": 23,
   "id": "4fbbbacd",
   "metadata": {
    "execution": {
     "iopub.execute_input": "2024-06-22T10:02:32.162824Z",
     "iopub.status.busy": "2024-06-22T10:02:32.162457Z",
     "iopub.status.idle": "2024-06-22T10:02:32.291234Z",
     "shell.execute_reply": "2024-06-22T10:02:32.289172Z"
    },
    "papermill": {
     "duration": 0.147258,
     "end_time": "2024-06-22T10:02:32.294859",
     "exception": false,
     "start_time": "2024-06-22T10:02:32.147601",
     "status": "completed"
    },
    "tags": []
   },
   "outputs": [
    {
     "name": "stderr",
     "output_type": "stream",
     "text": [
      "/opt/conda/lib/python3.10/site-packages/sklearn/linear_model/_logistic.py:458: ConvergenceWarning: lbfgs failed to converge (status=1):\n",
      "STOP: TOTAL NO. of ITERATIONS REACHED LIMIT.\n",
      "\n",
      "Increase the number of iterations (max_iter) or scale the data as shown in:\n",
      "    https://scikit-learn.org/stable/modules/preprocessing.html\n",
      "Please also refer to the documentation for alternative solver options:\n",
      "    https://scikit-learn.org/stable/modules/linear_model.html#logistic-regression\n",
      "  n_iter_i = _check_optimize_result(\n"
     ]
    },
    {
     "data": {
      "text/plain": [
       "0.7602070155261644"
      ]
     },
     "execution_count": 23,
     "metadata": {},
     "output_type": "execute_result"
    }
   ],
   "source": [
    "#Logistic regression\n",
    "lg = LogisticRegression()\n",
    "lg.fit(X_train,y_train)\n",
    "lg_pred_score = lg.score(X_test,y_test)\n",
    "lg_pred_score"
   ]
  },
  {
   "cell_type": "code",
   "execution_count": 24,
   "id": "5959b2de",
   "metadata": {
    "execution": {
     "iopub.execute_input": "2024-06-22T10:02:32.345618Z",
     "iopub.status.busy": "2024-06-22T10:02:32.345037Z",
     "iopub.status.idle": "2024-06-22T10:02:33.602569Z",
     "shell.execute_reply": "2024-06-22T10:02:33.601515Z"
    },
    "papermill": {
     "duration": 1.285307,
     "end_time": "2024-06-22T10:02:33.604888",
     "exception": false,
     "start_time": "2024-06-22T10:02:32.319581",
     "status": "completed"
    },
    "tags": []
   },
   "outputs": [
    {
     "data": {
      "text/plain": [
       "0.7883841288096607"
      ]
     },
     "execution_count": 24,
     "metadata": {},
     "output_type": "execute_result"
    }
   ],
   "source": [
    "#Random Forest Classifier\n",
    "rf = RandomForestClassifier()\n",
    "rf.fit(X_train,y_train)\n",
    "rf_pred_score = rf.score(X_test,y_test)\n",
    "rf_pred_score"
   ]
  },
  {
   "cell_type": "code",
   "execution_count": 25,
   "id": "e7e7b8c8",
   "metadata": {
    "execution": {
     "iopub.execute_input": "2024-06-22T10:02:33.634755Z",
     "iopub.status.busy": "2024-06-22T10:02:33.634376Z",
     "iopub.status.idle": "2024-06-22T10:02:34.828680Z",
     "shell.execute_reply": "2024-06-22T10:02:34.827354Z"
    },
    "papermill": {
     "duration": 1.212315,
     "end_time": "2024-06-22T10:02:34.831158",
     "exception": false,
     "start_time": "2024-06-22T10:02:33.618843",
     "status": "completed"
    },
    "tags": []
   },
   "outputs": [
    {
     "data": {
      "text/plain": [
       "0.7941345600920069"
      ]
     },
     "execution_count": 25,
     "metadata": {},
     "output_type": "execute_result"
    }
   ],
   "source": [
    "#Gradient Boosting Classifier\n",
    "gb = GradientBoostingClassifier()\n",
    "gb.fit(X_train,y_train)\n",
    "gb_pred_score = gb.score(X_test,y_test)\n",
    "gb_pred_score"
   ]
  },
  {
   "cell_type": "code",
   "execution_count": 26,
   "id": "76002176",
   "metadata": {
    "execution": {
     "iopub.execute_input": "2024-06-22T10:02:34.860807Z",
     "iopub.status.busy": "2024-06-22T10:02:34.860436Z",
     "iopub.status.idle": "2024-06-22T10:02:37.627625Z",
     "shell.execute_reply": "2024-06-22T10:02:37.626568Z"
    },
    "papermill": {
     "duration": 2.785187,
     "end_time": "2024-06-22T10:02:37.630025",
     "exception": false,
     "start_time": "2024-06-22T10:02:34.844838",
     "status": "completed"
    },
    "tags": []
   },
   "outputs": [
    {
     "data": {
      "text/plain": [
       "0.7751581368602645"
      ]
     },
     "execution_count": 26,
     "metadata": {},
     "output_type": "execute_result"
    }
   ],
   "source": [
    "#Support Vector Machine \n",
    "from sklearn.svm import SVC\n",
    "svc = SVC()\n",
    "svc.fit(X_train,y_train)\n",
    "svc_pred_score = svc.score(X_test,y_test)\n",
    "svc_pred_score"
   ]
  },
  {
   "cell_type": "code",
   "execution_count": 27,
   "id": "1df56ed3",
   "metadata": {
    "execution": {
     "iopub.execute_input": "2024-06-22T10:02:37.660748Z",
     "iopub.status.busy": "2024-06-22T10:02:37.660375Z",
     "iopub.status.idle": "2024-06-22T10:02:37.672037Z",
     "shell.execute_reply": "2024-06-22T10:02:37.670975Z"
    },
    "papermill": {
     "duration": 0.029889,
     "end_time": "2024-06-22T10:02:37.674468",
     "exception": false,
     "start_time": "2024-06-22T10:02:37.644579",
     "status": "completed"
    },
    "tags": []
   },
   "outputs": [
    {
     "data": {
      "text/html": [
       "<div>\n",
       "<style scoped>\n",
       "    .dataframe tbody tr th:only-of-type {\n",
       "        vertical-align: middle;\n",
       "    }\n",
       "\n",
       "    .dataframe tbody tr th {\n",
       "        vertical-align: top;\n",
       "    }\n",
       "\n",
       "    .dataframe thead th {\n",
       "        text-align: right;\n",
       "    }\n",
       "</style>\n",
       "<table border=\"1\" class=\"dataframe\">\n",
       "  <thead>\n",
       "    <tr style=\"text-align: right;\">\n",
       "      <th></th>\n",
       "      <th>model</th>\n",
       "      <th>accuracy</th>\n",
       "    </tr>\n",
       "  </thead>\n",
       "  <tbody>\n",
       "    <tr>\n",
       "      <th>0</th>\n",
       "      <td>LogisticRegression</td>\n",
       "      <td>0.760207</td>\n",
       "    </tr>\n",
       "    <tr>\n",
       "      <th>1</th>\n",
       "      <td>RandomForest</td>\n",
       "      <td>0.788384</td>\n",
       "    </tr>\n",
       "    <tr>\n",
       "      <th>2</th>\n",
       "      <td>GradientBoosting</td>\n",
       "      <td>0.794135</td>\n",
       "    </tr>\n",
       "    <tr>\n",
       "      <th>3</th>\n",
       "      <td>SupportVectorMachine</td>\n",
       "      <td>0.775158</td>\n",
       "    </tr>\n",
       "  </tbody>\n",
       "</table>\n",
       "</div>"
      ],
      "text/plain": [
       "                  model  accuracy\n",
       "0    LogisticRegression  0.760207\n",
       "1          RandomForest  0.788384\n",
       "2      GradientBoosting  0.794135\n",
       "3  SupportVectorMachine  0.775158"
      ]
     },
     "execution_count": 27,
     "metadata": {},
     "output_type": "execute_result"
    }
   ],
   "source": [
    "kf = pd.DataFrame(dict(model=['LogisticRegression',\n",
    "                             'RandomForest','GradientBoosting',\n",
    "                             'SupportVectorMachine'],\n",
    "                      accuracy = [lg_pred_score,\n",
    "                                 rf_pred_score,gb_pred_score,\n",
    "                                 svc_pred_score]))\n",
    "kf"
   ]
  },
  {
   "cell_type": "code",
   "execution_count": 28,
   "id": "b1076918",
   "metadata": {
    "execution": {
     "iopub.execute_input": "2024-06-22T10:02:37.706426Z",
     "iopub.status.busy": "2024-06-22T10:02:37.706023Z",
     "iopub.status.idle": "2024-06-22T10:02:38.094801Z",
     "shell.execute_reply": "2024-06-22T10:02:38.093513Z"
    },
    "papermill": {
     "duration": 0.407151,
     "end_time": "2024-06-22T10:02:38.097315",
     "exception": false,
     "start_time": "2024-06-22T10:02:37.690164",
     "status": "completed"
    },
    "tags": []
   },
   "outputs": [
    {
     "data": {
      "text/plain": [
       "(0.5, 1.0)"
      ]
     },
     "execution_count": 28,
     "metadata": {},
     "output_type": "execute_result"
    },
    {
     "data": {
      "image/png": "[encoded data removed]",
      "text/plain": [
       "<Figure size 640x480 with 1 Axes>"
      ]
     },
     "metadata": {},
     "output_type": "display_data"
    }
   ],
   "source": [
    "kf.plot(kind = 'bar',x='model',y='accuracy',title='Model Accuracy',legend=False,\n",
    "       color = ['red','blue','black','yellow'])\n",
    "plt.ylim(0.5,1)"
   ]
  },
  {
   "cell_type": "code",
   "execution_count": 29,
   "id": "c06e0fb6",
   "metadata": {
    "execution": {
     "iopub.execute_input": "2024-06-22T10:02:38.132193Z",
     "iopub.status.busy": "2024-06-22T10:02:38.130394Z",
     "iopub.status.idle": "2024-06-22T10:02:38.179259Z",
     "shell.execute_reply": "2024-06-22T10:02:38.177933Z"
    },
    "papermill": {
     "duration": 0.068958,
     "end_time": "2024-06-22T10:02:38.181772",
     "exception": false,
     "start_time": "2024-06-22T10:02:38.112814",
     "status": "completed"
    },
    "tags": []
   },
   "outputs": [
    {
     "data": {
      "text/html": [
       "<div>\n",
       "<style scoped>\n",
       "    .dataframe tbody tr th:only-of-type {\n",
       "        vertical-align: middle;\n",
       "    }\n",
       "\n",
       "    .dataframe tbody tr th {\n",
       "        vertical-align: top;\n",
       "    }\n",
       "\n",
       "    .dataframe thead th {\n",
       "        text-align: right;\n",
       "    }\n",
       "</style>\n",
       "<table border=\"1\" class=\"dataframe\">\n",
       "  <thead>\n",
       "    <tr style=\"text-align: right;\">\n",
       "      <th></th>\n",
       "      <th>PassengerId</th>\n",
       "      <th>HomePlanet</th>\n",
       "      <th>CryoSleep</th>\n",
       "      <th>Cabin</th>\n",
       "      <th>Destination</th>\n",
       "      <th>Age</th>\n",
       "      <th>VIP</th>\n",
       "      <th>RoomService</th>\n",
       "      <th>FoodCourt</th>\n",
       "      <th>ShoppingMall</th>\n",
       "      <th>Spa</th>\n",
       "      <th>VRDeck</th>\n",
       "      <th>Name</th>\n",
       "    </tr>\n",
       "  </thead>\n",
       "  <tbody>\n",
       "    <tr>\n",
       "      <th>0</th>\n",
       "      <td>0013_01</td>\n",
       "      <td>Earth</td>\n",
       "      <td>True</td>\n",
       "      <td>G/3/S</td>\n",
       "      <td>TRAPPIST-1e</td>\n",
       "      <td>27.0</td>\n",
       "      <td>False</td>\n",
       "      <td>0.0</td>\n",
       "      <td>0.0</td>\n",
       "      <td>0.0</td>\n",
       "      <td>0.0</td>\n",
       "      <td>0.0</td>\n",
       "      <td>Nelly Carsoning</td>\n",
       "    </tr>\n",
       "    <tr>\n",
       "      <th>1</th>\n",
       "      <td>0018_01</td>\n",
       "      <td>Earth</td>\n",
       "      <td>False</td>\n",
       "      <td>F/4/S</td>\n",
       "      <td>TRAPPIST-1e</td>\n",
       "      <td>19.0</td>\n",
       "      <td>False</td>\n",
       "      <td>0.0</td>\n",
       "      <td>9.0</td>\n",
       "      <td>0.0</td>\n",
       "      <td>2823.0</td>\n",
       "      <td>0.0</td>\n",
       "      <td>Lerome Peckers</td>\n",
       "    </tr>\n",
       "    <tr>\n",
       "      <th>2</th>\n",
       "      <td>0019_01</td>\n",
       "      <td>Europa</td>\n",
       "      <td>True</td>\n",
       "      <td>C/0/S</td>\n",
       "      <td>55 Cancri e</td>\n",
       "      <td>31.0</td>\n",
       "      <td>False</td>\n",
       "      <td>0.0</td>\n",
       "      <td>0.0</td>\n",
       "      <td>0.0</td>\n",
       "      <td>0.0</td>\n",
       "      <td>0.0</td>\n",
       "      <td>Sabih Unhearfus</td>\n",
       "    </tr>\n",
       "    <tr>\n",
       "      <th>3</th>\n",
       "      <td>0021_01</td>\n",
       "      <td>Europa</td>\n",
       "      <td>False</td>\n",
       "      <td>C/1/S</td>\n",
       "      <td>TRAPPIST-1e</td>\n",
       "      <td>38.0</td>\n",
       "      <td>False</td>\n",
       "      <td>0.0</td>\n",
       "      <td>6652.0</td>\n",
       "      <td>0.0</td>\n",
       "      <td>181.0</td>\n",
       "      <td>585.0</td>\n",
       "      <td>Meratz Caltilter</td>\n",
       "    </tr>\n",
       "    <tr>\n",
       "      <th>4</th>\n",
       "      <td>0023_01</td>\n",
       "      <td>Earth</td>\n",
       "      <td>False</td>\n",
       "      <td>F/5/S</td>\n",
       "      <td>TRAPPIST-1e</td>\n",
       "      <td>20.0</td>\n",
       "      <td>False</td>\n",
       "      <td>10.0</td>\n",
       "      <td>0.0</td>\n",
       "      <td>635.0</td>\n",
       "      <td>0.0</td>\n",
       "      <td>0.0</td>\n",
       "      <td>Brence Harperez</td>\n",
       "    </tr>\n",
       "  </tbody>\n",
       "</table>\n",
       "</div>"
      ],
      "text/plain": [
       "  PassengerId HomePlanet CryoSleep  Cabin  Destination   Age    VIP  \\\n",
       "0     0013_01      Earth      True  G/3/S  TRAPPIST-1e  27.0  False   \n",
       "1     0018_01      Earth     False  F/4/S  TRAPPIST-1e  19.0  False   \n",
       "2     0019_01     Europa      True  C/0/S  55 Cancri e  31.0  False   \n",
       "3     0021_01     Europa     False  C/1/S  TRAPPIST-1e  38.0  False   \n",
       "4     0023_01      Earth     False  F/5/S  TRAPPIST-1e  20.0  False   \n",
       "\n",
       "   RoomService  FoodCourt  ShoppingMall     Spa  VRDeck              Name  \n",
       "0          0.0        0.0           0.0     0.0     0.0   Nelly Carsoning  \n",
       "1          0.0        9.0           0.0  2823.0     0.0    Lerome Peckers  \n",
       "2          0.0        0.0           0.0     0.0     0.0   Sabih Unhearfus  \n",
       "3          0.0     6652.0           0.0   181.0   585.0  Meratz Caltilter  \n",
       "4         10.0        0.0         635.0     0.0     0.0   Brence Harperez  "
      ]
     },
     "execution_count": 29,
     "metadata": {},
     "output_type": "execute_result"
    }
   ],
   "source": [
    "filepath2 = '/kaggle/input/spaceship-titanic/test.csv'\n",
    "mf = pd.read_csv('/kaggle/input/spaceship-titanic/test.csv')\n",
    "mf.head()"
   ]
  },
  {
   "cell_type": "code",
   "execution_count": 30,
   "id": "1231761c",
   "metadata": {
    "execution": {
     "iopub.execute_input": "2024-06-22T10:02:38.213773Z",
     "iopub.status.busy": "2024-06-22T10:02:38.213354Z",
     "iopub.status.idle": "2024-06-22T10:02:38.249037Z",
     "shell.execute_reply": "2024-06-22T10:02:38.248035Z"
    },
    "papermill": {
     "duration": 0.054462,
     "end_time": "2024-06-22T10:02:38.251298",
     "exception": false,
     "start_time": "2024-06-22T10:02:38.196836",
     "status": "completed"
    },
    "tags": []
   },
   "outputs": [
    {
     "name": "stderr",
     "output_type": "stream",
     "text": [
      "/tmp/ipykernel_18/2448554201.py:6: FutureWarning: Downcasting object dtype arrays on .fillna, .ffill, .bfill is deprecated and will change in a future version. Call result.infer_objects(copy=False) instead. To opt-in to the future behavior, set `pd.set_option('future.no_silent_downcasting', True)`\n",
      "  mf[cat_col] = mf[cat_col].fillna(mf[cat_col].mode()[0])\n"
     ]
    }
   ],
   "source": [
    "categorical_var = mf.select_dtypes(include=['object']).columns\n",
    "numerical_var = mf.select_dtypes(include=['float64']).columns\n",
    "#Categorical\n",
    "for cat_col in categorical_var:\n",
    "    if cat_col != \"Name\":\n",
    "        mf[cat_col] = mf[cat_col].fillna(mf[cat_col].mode()[0])\n",
    "#Numerical\n",
    "for num_col in numerical_var:\n",
    "    mf[num_col] = mf[num_col].fillna(mf[num_col].mean())\n",
    "#Homeplanet\n",
    "unique_planets = mf['HomePlanet'].unique()\n",
    "# unique_planets\n",
    "mf['HomePlanet'] = mf['HomePlanet'].map(dict(zip(unique_planets,list(range(len(unique_planets))))))\n",
    "#Destination\n",
    "unique_dest = mf['Destination'].unique()\n",
    "# unique_dest\n",
    "mf['Destination'] = mf['Destination'].map(dict(zip(unique_dest,list(range(len(unique_dest))))))\n",
    "#CryoSleep\n",
    "unique_sleep = mf['CryoSleep'].unique()\n",
    "# unique_sleep\n",
    "mf['CryoSleep'] = mf['CryoSleep'].map(dict(zip(unique_sleep,list(range(len(unique_sleep))))))\n",
    "#VIP\n",
    "unique_VIP = mf['VIP'].unique()\n",
    "# unique_dest\n",
    "mf['VIP'] = mf['VIP'].map(dict(zip(unique_VIP,list(range(len(unique_VIP))))))"
   ]
  },
  {
   "cell_type": "code",
   "execution_count": 31,
   "id": "9b11da9c",
   "metadata": {
    "execution": {
     "iopub.execute_input": "2024-06-22T10:02:38.284880Z",
     "iopub.status.busy": "2024-06-22T10:02:38.284502Z",
     "iopub.status.idle": "2024-06-22T10:02:38.320879Z",
     "shell.execute_reply": "2024-06-22T10:02:38.319817Z"
    },
    "papermill": {
     "duration": 0.057016,
     "end_time": "2024-06-22T10:02:38.324202",
     "exception": false,
     "start_time": "2024-06-22T10:02:38.267186",
     "status": "completed"
    },
    "tags": []
   },
   "outputs": [
    {
     "data": {
      "text/html": [
       "<div>\n",
       "<style scoped>\n",
       "    .dataframe tbody tr th:only-of-type {\n",
       "        vertical-align: middle;\n",
       "    }\n",
       "\n",
       "    .dataframe tbody tr th {\n",
       "        vertical-align: top;\n",
       "    }\n",
       "\n",
       "    .dataframe thead th {\n",
       "        text-align: right;\n",
       "    }\n",
       "</style>\n",
       "<table border=\"1\" class=\"dataframe\">\n",
       "  <thead>\n",
       "    <tr style=\"text-align: right;\">\n",
       "      <th></th>\n",
       "      <th>PassengerId</th>\n",
       "      <th>HomePlanet</th>\n",
       "      <th>CryoSleep</th>\n",
       "      <th>Destination</th>\n",
       "      <th>Age</th>\n",
       "      <th>VIP</th>\n",
       "      <th>RoomService</th>\n",
       "      <th>FoodCourt</th>\n",
       "      <th>ShoppingMall</th>\n",
       "      <th>Spa</th>\n",
       "      <th>VRDeck</th>\n",
       "      <th>deck</th>\n",
       "      <th>port</th>\n",
       "    </tr>\n",
       "  </thead>\n",
       "  <tbody>\n",
       "    <tr>\n",
       "      <th>0</th>\n",
       "      <td>0013_01</td>\n",
       "      <td>0</td>\n",
       "      <td>0</td>\n",
       "      <td>0</td>\n",
       "      <td>27.0</td>\n",
       "      <td>0</td>\n",
       "      <td>0.0</td>\n",
       "      <td>0.0</td>\n",
       "      <td>0.0</td>\n",
       "      <td>0.0</td>\n",
       "      <td>0.0</td>\n",
       "      <td>0</td>\n",
       "      <td>0</td>\n",
       "    </tr>\n",
       "    <tr>\n",
       "      <th>1</th>\n",
       "      <td>0018_01</td>\n",
       "      <td>0</td>\n",
       "      <td>1</td>\n",
       "      <td>0</td>\n",
       "      <td>19.0</td>\n",
       "      <td>0</td>\n",
       "      <td>0.0</td>\n",
       "      <td>9.0</td>\n",
       "      <td>0.0</td>\n",
       "      <td>2823.0</td>\n",
       "      <td>0.0</td>\n",
       "      <td>1</td>\n",
       "      <td>0</td>\n",
       "    </tr>\n",
       "    <tr>\n",
       "      <th>2</th>\n",
       "      <td>0019_01</td>\n",
       "      <td>1</td>\n",
       "      <td>0</td>\n",
       "      <td>1</td>\n",
       "      <td>31.0</td>\n",
       "      <td>0</td>\n",
       "      <td>0.0</td>\n",
       "      <td>0.0</td>\n",
       "      <td>0.0</td>\n",
       "      <td>0.0</td>\n",
       "      <td>0.0</td>\n",
       "      <td>2</td>\n",
       "      <td>0</td>\n",
       "    </tr>\n",
       "    <tr>\n",
       "      <th>3</th>\n",
       "      <td>0021_01</td>\n",
       "      <td>1</td>\n",
       "      <td>1</td>\n",
       "      <td>0</td>\n",
       "      <td>38.0</td>\n",
       "      <td>0</td>\n",
       "      <td>0.0</td>\n",
       "      <td>6652.0</td>\n",
       "      <td>0.0</td>\n",
       "      <td>181.0</td>\n",
       "      <td>585.0</td>\n",
       "      <td>2</td>\n",
       "      <td>0</td>\n",
       "    </tr>\n",
       "    <tr>\n",
       "      <th>4</th>\n",
       "      <td>0023_01</td>\n",
       "      <td>0</td>\n",
       "      <td>1</td>\n",
       "      <td>0</td>\n",
       "      <td>20.0</td>\n",
       "      <td>0</td>\n",
       "      <td>10.0</td>\n",
       "      <td>0.0</td>\n",
       "      <td>635.0</td>\n",
       "      <td>0.0</td>\n",
       "      <td>0.0</td>\n",
       "      <td>1</td>\n",
       "      <td>0</td>\n",
       "    </tr>\n",
       "  </tbody>\n",
       "</table>\n",
       "</div>"
      ],
      "text/plain": [
       "  PassengerId  HomePlanet  CryoSleep  Destination   Age  VIP  RoomService  \\\n",
       "0     0013_01           0          0            0  27.0    0          0.0   \n",
       "1     0018_01           0          1            0  19.0    0          0.0   \n",
       "2     0019_01           1          0            1  31.0    0          0.0   \n",
       "3     0021_01           1          1            0  38.0    0          0.0   \n",
       "4     0023_01           0          1            0  20.0    0         10.0   \n",
       "\n",
       "   FoodCourt  ShoppingMall     Spa  VRDeck  deck  port  \n",
       "0        0.0           0.0     0.0     0.0     0     0  \n",
       "1        9.0           0.0  2823.0     0.0     1     0  \n",
       "2        0.0           0.0     0.0     0.0     2     0  \n",
       "3     6652.0           0.0   181.0   585.0     2     0  \n",
       "4        0.0         635.0     0.0     0.0     1     0  "
      ]
     },
     "execution_count": 31,
     "metadata": {},
     "output_type": "execute_result"
    }
   ],
   "source": [
    "mf.drop(['Name'], axis=1, inplace=True)\n",
    "mf['deck'] = mf['Cabin'].apply(lambda s: s[0] if pd.notnull(s) else 'M')\n",
    "mf['port'] = mf['Cabin'].apply(lambda s: s[-1] if pd.notnull(s) else 'M')\n",
    "\n",
    "unique_deck = mf['deck'].unique()\n",
    "unique_port = mf['port'].unique()\n",
    "\n",
    "mf['deck'] = mf['deck'].map(dict(zip(unique_deck,list(range(len(unique_deck))))))\n",
    "mf['port'] = mf['port'].map(dict(zip(unique_port,list(range(len(unique_port))))))\n",
    "\n",
    "mf.drop(['Cabin'], axis=1, inplace=True)\n",
    "\n",
    "mf.head()"
   ]
  },
  {
   "cell_type": "code",
   "execution_count": 32,
   "id": "3d82bfed",
   "metadata": {
    "execution": {
     "iopub.execute_input": "2024-06-22T10:02:38.358561Z",
     "iopub.status.busy": "2024-06-22T10:02:38.358176Z",
     "iopub.status.idle": "2024-06-22T10:02:38.396626Z",
     "shell.execute_reply": "2024-06-22T10:02:38.394832Z"
    },
    "papermill": {
     "duration": 0.059384,
     "end_time": "2024-06-22T10:02:38.399440",
     "exception": false,
     "start_time": "2024-06-22T10:02:38.340056",
     "status": "completed"
    },
    "tags": []
   },
   "outputs": [],
   "source": [
    "mf.to_csv('test_cleaned.csv')"
   ]
  },
  {
   "cell_type": "markdown",
   "id": "08cd7bf3",
   "metadata": {
    "papermill": {
     "duration": 0.015004,
     "end_time": "2024-06-22T10:02:38.429799",
     "exception": false,
     "start_time": "2024-06-22T10:02:38.414795",
     "status": "completed"
    },
    "tags": []
   },
   "source": [
    "# Predictions using the most efficent and accurate model "
   ]
  },
  {
   "cell_type": "code",
   "execution_count": 33,
   "id": "ecc0d496",
   "metadata": {
    "execution": {
     "iopub.execute_input": "2024-06-22T10:02:38.462956Z",
     "iopub.status.busy": "2024-06-22T10:02:38.462595Z",
     "iopub.status.idle": "2024-06-22T10:02:38.497919Z",
     "shell.execute_reply": "2024-06-22T10:02:38.496231Z"
    },
    "papermill": {
     "duration": 0.054529,
     "end_time": "2024-06-22T10:02:38.500447",
     "exception": false,
     "start_time": "2024-06-22T10:02:38.445918",
     "status": "completed"
    },
    "tags": []
   },
   "outputs": [
    {
     "data": {
      "text/html": [
       "<div>\n",
       "<style scoped>\n",
       "    .dataframe tbody tr th:only-of-type {\n",
       "        vertical-align: middle;\n",
       "    }\n",
       "\n",
       "    .dataframe tbody tr th {\n",
       "        vertical-align: top;\n",
       "    }\n",
       "\n",
       "    .dataframe thead th {\n",
       "        text-align: right;\n",
       "    }\n",
       "</style>\n",
       "<table border=\"1\" class=\"dataframe\">\n",
       "  <thead>\n",
       "    <tr style=\"text-align: right;\">\n",
       "      <th></th>\n",
       "      <th>Unnamed: 0</th>\n",
       "      <th>PassengerId</th>\n",
       "      <th>HomePlanet</th>\n",
       "      <th>CryoSleep</th>\n",
       "      <th>Destination</th>\n",
       "      <th>Age</th>\n",
       "      <th>VIP</th>\n",
       "      <th>RoomService</th>\n",
       "      <th>FoodCourt</th>\n",
       "      <th>ShoppingMall</th>\n",
       "      <th>Spa</th>\n",
       "      <th>VRDeck</th>\n",
       "      <th>deck</th>\n",
       "      <th>port</th>\n",
       "    </tr>\n",
       "  </thead>\n",
       "  <tbody>\n",
       "    <tr>\n",
       "      <th>0</th>\n",
       "      <td>0</td>\n",
       "      <td>0013_01</td>\n",
       "      <td>0</td>\n",
       "      <td>0</td>\n",
       "      <td>0</td>\n",
       "      <td>27.0</td>\n",
       "      <td>0</td>\n",
       "      <td>0.0</td>\n",
       "      <td>0.0</td>\n",
       "      <td>0.0</td>\n",
       "      <td>0.0</td>\n",
       "      <td>0.0</td>\n",
       "      <td>0</td>\n",
       "      <td>0</td>\n",
       "    </tr>\n",
       "    <tr>\n",
       "      <th>1</th>\n",
       "      <td>1</td>\n",
       "      <td>0018_01</td>\n",
       "      <td>0</td>\n",
       "      <td>1</td>\n",
       "      <td>0</td>\n",
       "      <td>19.0</td>\n",
       "      <td>0</td>\n",
       "      <td>0.0</td>\n",
       "      <td>9.0</td>\n",
       "      <td>0.0</td>\n",
       "      <td>2823.0</td>\n",
       "      <td>0.0</td>\n",
       "      <td>1</td>\n",
       "      <td>0</td>\n",
       "    </tr>\n",
       "    <tr>\n",
       "      <th>2</th>\n",
       "      <td>2</td>\n",
       "      <td>0019_01</td>\n",
       "      <td>1</td>\n",
       "      <td>0</td>\n",
       "      <td>1</td>\n",
       "      <td>31.0</td>\n",
       "      <td>0</td>\n",
       "      <td>0.0</td>\n",
       "      <td>0.0</td>\n",
       "      <td>0.0</td>\n",
       "      <td>0.0</td>\n",
       "      <td>0.0</td>\n",
       "      <td>2</td>\n",
       "      <td>0</td>\n",
       "    </tr>\n",
       "    <tr>\n",
       "      <th>3</th>\n",
       "      <td>3</td>\n",
       "      <td>0021_01</td>\n",
       "      <td>1</td>\n",
       "      <td>1</td>\n",
       "      <td>0</td>\n",
       "      <td>38.0</td>\n",
       "      <td>0</td>\n",
       "      <td>0.0</td>\n",
       "      <td>6652.0</td>\n",
       "      <td>0.0</td>\n",
       "      <td>181.0</td>\n",
       "      <td>585.0</td>\n",
       "      <td>2</td>\n",
       "      <td>0</td>\n",
       "    </tr>\n",
       "    <tr>\n",
       "      <th>4</th>\n",
       "      <td>4</td>\n",
       "      <td>0023_01</td>\n",
       "      <td>0</td>\n",
       "      <td>1</td>\n",
       "      <td>0</td>\n",
       "      <td>20.0</td>\n",
       "      <td>0</td>\n",
       "      <td>10.0</td>\n",
       "      <td>0.0</td>\n",
       "      <td>635.0</td>\n",
       "      <td>0.0</td>\n",
       "      <td>0.0</td>\n",
       "      <td>1</td>\n",
       "      <td>0</td>\n",
       "    </tr>\n",
       "  </tbody>\n",
       "</table>\n",
       "</div>"
      ],
      "text/plain": [
       "   Unnamed: 0 PassengerId  HomePlanet  CryoSleep  Destination   Age  VIP  \\\n",
       "0           0     0013_01           0          0            0  27.0    0   \n",
       "1           1     0018_01           0          1            0  19.0    0   \n",
       "2           2     0019_01           1          0            1  31.0    0   \n",
       "3           3     0021_01           1          1            0  38.0    0   \n",
       "4           4     0023_01           0          1            0  20.0    0   \n",
       "\n",
       "   RoomService  FoodCourt  ShoppingMall     Spa  VRDeck  deck  port  \n",
       "0          0.0        0.0           0.0     0.0     0.0     0     0  \n",
       "1          0.0        9.0           0.0  2823.0     0.0     1     0  \n",
       "2          0.0        0.0           0.0     0.0     0.0     2     0  \n",
       "3          0.0     6652.0           0.0   181.0   585.0     2     0  \n",
       "4         10.0        0.0         635.0     0.0     0.0     1     0  "
      ]
     },
     "execution_count": 33,
     "metadata": {},
     "output_type": "execute_result"
    }
   ],
   "source": [
    "nf_test = pd.read_csv('test_cleaned.csv')\n",
    "nf_test.head()\n"
   ]
  },
  {
   "cell_type": "code",
   "execution_count": 34,
   "id": "0607b553",
   "metadata": {
    "execution": {
     "iopub.execute_input": "2024-06-22T10:02:38.535086Z",
     "iopub.status.busy": "2024-06-22T10:02:38.534682Z",
     "iopub.status.idle": "2024-06-22T10:02:38.542997Z",
     "shell.execute_reply": "2024-06-22T10:02:38.541975Z"
    },
    "papermill": {
     "duration": 0.028566,
     "end_time": "2024-06-22T10:02:38.545552",
     "exception": false,
     "start_time": "2024-06-22T10:02:38.516986",
     "status": "completed"
    },
    "tags": []
   },
   "outputs": [],
   "source": [
    "X_train = df_train.drop(['Transported'],axis=1)\n",
    "y_train = df_train['Transported']\n",
    "X_test = nf_test.drop(['PassengerId'],axis=1).copy()"
   ]
  },
  {
   "cell_type": "code",
   "execution_count": 35,
   "id": "bf1e7666",
   "metadata": {
    "execution": {
     "iopub.execute_input": "2024-06-22T10:02:38.578772Z",
     "iopub.status.busy": "2024-06-22T10:02:38.578412Z",
     "iopub.status.idle": "2024-06-22T10:02:43.147605Z",
     "shell.execute_reply": "2024-06-22T10:02:43.146193Z"
    },
    "papermill": {
     "duration": 4.590131,
     "end_time": "2024-06-22T10:02:43.151551",
     "exception": false,
     "start_time": "2024-06-22T10:02:38.561420",
     "status": "completed"
    },
    "tags": []
   },
   "outputs": [],
   "source": [
    "model = SVC()\n",
    "model.fit(X_train,y_train)\n",
    "predictions = model.predict(X_test)"
   ]
  },
  {
   "cell_type": "code",
   "execution_count": 36,
   "id": "1ef40ee9",
   "metadata": {
    "execution": {
     "iopub.execute_input": "2024-06-22T10:02:43.185868Z",
     "iopub.status.busy": "2024-06-22T10:02:43.185512Z",
     "iopub.status.idle": "2024-06-22T10:02:43.197013Z",
     "shell.execute_reply": "2024-06-22T10:02:43.195932Z"
    },
    "papermill": {
     "duration": 0.031657,
     "end_time": "2024-06-22T10:02:43.199825",
     "exception": false,
     "start_time": "2024-06-22T10:02:43.168168",
     "status": "completed"
    },
    "tags": []
   },
   "outputs": [],
   "source": [
    "df_submissions = pd.DataFrame({'PassengerId':mf['PassengerId'],'Transported':predictions})\n",
    "df_submissions\n",
    "df_submissions.to_csv('submission.csv',index=False)"
   ]
  },
  {
   "cell_type": "code",
   "execution_count": null,
   "id": "f61ec55e",
   "metadata": {
    "papermill": {
     "duration": 0.015761,
     "end_time": "2024-06-22T10:02:43.231100",
     "exception": false,
     "start_time": "2024-06-22T10:02:43.215339",
     "status": "completed"
    },
    "tags": []
   },
   "outputs": [],
   "source": []
  }
 ],
 "metadata": {
  "kaggle": {
   "accelerator": "none",
   "dataSources": [
    {
     "databundleVersionId": 3220602,
     "sourceId": 34377,
     "sourceType": "competition"
    }
   ],
   "dockerImageVersionId": 30732,
   "isGpuEnabled": false,
   "isInternetEnabled": false,
   "language": "python",
   "sourceType": "notebook"
  },
  "kernelspec": {
   "display_name": "Python 3",
   "language": "python",
   "name": "python3"
  },
  "language_info": {
   "codemirror_mode": {
    "name": "ipython",
    "version": 3
   },
   "file_extension": ".py",
   "mimetype": "text/x-python",
   "name": "python",
   "nbconvert_exporter": "python",
   "pygments_lexer": "ipython3",
   "version": "3.10.13"
  },
  "papermill": {
   "default_parameters": {},
   "duration": 19.305364,
   "end_time": "2024-06-22T10:02:43.974204",
   "environment_variables": {},
   "exception": null,
   "input_path": "__notebook__.ipynb",
   "output_path": "__notebook__.ipynb",
   "parameters": {},
   "start_time": "2024-06-22T10:02:24.668840",
   "version": "2.5.0"
  }
 },
 "nbformat": 4,
 "nbformat_minor": 5
}
